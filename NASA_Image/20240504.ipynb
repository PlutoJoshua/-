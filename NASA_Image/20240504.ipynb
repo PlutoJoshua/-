{
 "cells": [
  {
   "cell_type": "code",
   "execution_count": null,
   "metadata": {},
   "outputs": [],
   "source": [
    "{\n",
    "  \"date\": \"2024-05-05\",\n",
    "  \"explanation\": \"What happens to a star that goes near a black hole? If the star directly impacts a massive black hole, then the star falls in completely -- and everything vanishes. More likely, though, the star goes close enough to have the black hole's gravity pull away its outer layers, or disrupt, the star. Then, most of the star's gas does not fall into the black hole.  These stellar tidal disruption events can be as bright as a supernova, and an increasing amount of them are being discovered by automated sky surveys. In the featured artist's illustration, a star has just passed a massive black hole and sheds gas that continues to orbit.  The inner edge of a disk of gas and dust surrounding the black hole is heated by the disruption event and may glow long after the star  is gone.    Hole New Worlds: It's Black Hole Week at NASA!\",\n",
    "  \"hdurl\": \"https://apod.nasa.gov/apod/image/2405/BhShredder_NASA_3482.jpg\",\n",
    "  \"media_type\": \"image\",\n",
    "  \"service_version\": \"v1\",\n",
    "  \"title\": \"A Black Hole Disrupts a Passing Star\",\n",
    "  \"url\": \"https://apod.nasa.gov/apod/image/2405/BhShredder_NASA_1080.jpg\"\n",
    "}"
   ]
  },
  {
   "cell_type": "markdown",
   "metadata": {},
   "source": [
    "블랙홀 근처에 다가가는 별은 어떻게 되나요? 별이 거대한 블랙홀과 직접 충돌하면 별은 완전히 떨어지고 모든 것이 사라집니다. 하지만 별이 블랙홀의 중력에 의해 외층을 끌어내리거나 별을 방해할 만큼 충분히 가까워질 가능성이 더 높습니다. 그러면 별의 가스 대부분이 블랙홀로 떨어지지 않습니다. 이러한 항성 조수 붕괴 현상은 초신성만큼 밝을 수 있으며, 자동화된 하늘 조사를 통해 점점 더 많은 양의 현상이 발견되고 있습니다. 특집 아티스트의 일러스트레이션에서 별은 막 거대한 블랙홀을 통과하고 계속해서 궤도를 도는 가스를 방출합니다. 블랙홀을 둘러싸고 있는 가스와 먼지 원반의 내부 가장자리는 붕괴로 인해 가열되어 별이 사라진 후에도 오랫동안 빛날 수 있습니다. Hole New Worlds: NASA의 블랙홀 주간입니다!"
   ]
  },
  {
   "cell_type": "markdown",
   "metadata": {},
   "source": [
    "![-](https://apod.nasa.gov/apod/image/2405/BhShredder_NASA_1080.jpg)"
   ]
  },
  {
   "cell_type": "markdown",
   "metadata": {},
   "source": []
  }
 ],
 "metadata": {
  "kernelspec": {
   "display_name": "base",
   "language": "python",
   "name": "python3"
  },
  "language_info": {
   "name": "python",
   "version": "3.11.5"
  }
 },
 "nbformat": 4,
 "nbformat_minor": 2
}

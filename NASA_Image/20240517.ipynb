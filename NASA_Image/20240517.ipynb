{
 "cells": [
  {
   "cell_type": "code",
   "execution_count": null,
   "metadata": {},
   "outputs": [],
   "source": [
    "{\n",
    "  \"copyright\": \"Kavan Chay\",\n",
    "  \"date\": \"2024-05-17\",\n",
    "  \"explanation\": \"This well-composed composite panoramic view looks due south from Banks Peninsula near Christchurch on New Zealand's South Island. The base of a tower-like rocky sea stack is awash in the foreground, with stars of the Southern Cross at the top of the frame and planet Earth's south celestial pole near center. Still, captured on May 11, vibrant aurora australis dominate the starry southern sea and skyscape. The shimmering southern lights were part of extensive auroral displays that entertained skywatchers in northern and southern hemispheres around planet Earth, caused by intense geomagnetic storms. The extreme spaceweather was triggered by the impact of coronal mass ejections launched from powerful solar active region AR 3664.   AuroraSaurus: Report your aurora observations\",\n",
    "  \"hdurl\": \"https://apod.nasa.gov/apod/image/2405/DSC_6363Panorama-2.jpg\",\n",
    "  \"media_type\": \"image\",\n",
    "  \"service_version\": \"v1\",\n",
    "  \"title\": \"Aurora Banks Peninsula\",\n",
    "  \"url\": \"https://apod.nasa.gov/apod/image/2405/DSC_6363Panorama-2_600.jpg\"\n",
    "}"
   ]
  },
  {
   "cell_type": "markdown",
   "metadata": {},
   "source": [
    "잘 구성된 이 합성 파노라마 사진은 뉴질랜드 남섬의 크라이스트처치 근처 뱅크스 반도(Banks Peninsula) 정남쪽을 바라보고 있습니다. 탑처럼 생긴 바위로 이루어진 바다 더미의 바닥이 전경에 넘쳐나고 있으며, 사진 상단에는 남십자성의 별들이 있고 중앙 근처에는 지구의 남천구 극이 있습니다. 여전히 5월 11일에 포착된 강렬한 오로라가 별이 총총한 남쪽 바다와 하늘 풍경을 지배하고 있습니다. 반짝이는 남반구의 빛은 강렬한 지자기 폭풍으로 인해 지구 북반구와 남반구의 천문관찰자들을 즐겁게 해준 광범위한 오로라의 일부였습니다. 극한의 우주 기상 현상은 강력한 태양 활동 지역인 AR 3664에서 발사된 코로나 질량 방출의 영향으로 촉발되었습니다. AuroraSaurus: 오로라 관측 결과를 보고하세요."
   ]
  },
  {
   "cell_type": "markdown",
   "metadata": {},
   "source": [
    "![-](https://apod.nasa.gov/apod/image/2405/DSC_6363Panorama-2_600.jpg)"
   ]
  },
  {
   "cell_type": "markdown",
   "metadata": {},
   "source": []
  }
 ],
 "metadata": {
  "language_info": {
   "name": "python"
  }
 },
 "nbformat": 4,
 "nbformat_minor": 2
}

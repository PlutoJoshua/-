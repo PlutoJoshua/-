{
 "cells": [
  {
   "cell_type": "code",
   "execution_count": null,
   "metadata": {},
   "outputs": [],
   "source": [
    "{\n",
    "  \"copyright\": \"\\nValter Binotto\\n\",\n",
    "  \"date\": \"2024-05-30\",\n",
    "  \"explanation\": \"Why does a cloudy moon sometimes appear colorful? The effect, called a lunar corona, is created by the quantum mechanical diffraction of light around individual, similarly-sized water droplets in an intervening but mostly-transparent cloud. Since light of different colors has different wavelengths, each color diffracts differently. Lunar coronae are one of the few  quantum mechanical color effects that can be easily seen with the unaided eye.  Solar coronae are also sometimes evident. The featured image was taken last month from Paris, France.  The blue beacon emanating from the Eiffel Tower did not affect the colorful lunar corona.   Portal Universe: Random APOD Generator\",\n",
    "  \"hdurl\": \"https://apod.nasa.gov/apod/image/2405/EiffelCorona_Binotto_2000.jpg\",\n",
    "  \"media_type\": \"image\",\n",
    "  \"service_version\": \"v1\",\n",
    "  \"title\": \"A Lunar Corona over Paris\",\n",
    "  \"url\": \"https://apod.nasa.gov/apod/image/2405/EiffelCorona_Binotto_960.jpg\"\n",
    "}"
   ]
  },
  {
   "cell_type": "markdown",
   "metadata": {},
   "source": [
    "흐린 달이 때때로 다채롭게 보이는 이유는 무엇입니까? 달 코로나라고 불리는 이 효과는 중간에 있지만 거의 투명한 구름 속에 있는 비슷한 크기의 물방울 주위에 빛이 양자역학적으로 회절함으로써 생성됩니다. 서로 다른 색상의 빛은 서로 다른 파장을 가지므로 각 색상은 서로 다르게 회절됩니다. 달 코로나는 육안으로 쉽게 볼 수 있는 몇 안 되는 양자역학적 색상 효과 중 하나입니다. 태양 코로나도 때때로 분명하게 나타납니다. 위 사진은 지난 달 프랑스 파리에서 촬영한 것입니다. 에펠탑에서 뿜어져 나오는 파란색 신호등은 화려한 달 코로나에 영향을 미치지 않았습니다. 포털 유니버스: 무작위 APOD 생성기"
   ]
  },
  {
   "cell_type": "markdown",
   "metadata": {},
   "source": [
    "![-](https://apod.nasa.gov/apod/image/2405/EiffelCorona_Binotto_2000.jpg)"
   ]
  },
  {
   "cell_type": "markdown",
   "metadata": {},
   "source": []
  }
 ],
 "metadata": {
  "language_info": {
   "name": "python"
  }
 },
 "nbformat": 4,
 "nbformat_minor": 2
}

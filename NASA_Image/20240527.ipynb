{
 "cells": [
  {
   "cell_type": "code",
   "execution_count": null,
   "metadata": {},
   "outputs": [],
   "source": [
    "{\n",
    "  \"copyright\": \"Amiel Contuliano\",\n",
    "  \"date\": \"2024-05-27\",\n",
    "  \"explanation\": \"Dark markings and bright nebulae in this telescopic southern sky view are telltale signs of young stars and active star formation. They lie a mere 650 light-years away, at the boundary of the local bubble and the Chamaeleon molecular cloud complex. Regions with young stars identified as dusty reflection nebulae from the 1946 Cederblad catalog include the C-shaped Ced 110 just above and right of center, and bluish Ced 111 below it. Also a standout in the frame, the orange tinted V-shape of the Chamaeleon Infrared Nebula (Cha IRN) was carved by material streaming from a newly formed low-mass star.  The well-composed image spans 1.5 degrees. That's about 17 light-years at the estimated distance of the nearby Chamaeleon I molecular cloud.\",\n",
    "  \"hdurl\": \"https://apod.nasa.gov/apod/image/2405/Cederblad111-110.jpg\",\n",
    "  \"media_type\": \"image\",\n",
    "  \"service_version\": \"v1\",\n",
    "  \"title\": \"Chamaeleon I Molecular Cloud\",\n",
    "  \"url\": \"https://apod.nasa.gov/apod/image/2405/Cederblad111-110_1024.jpg\"\n",
    "}"
   ]
  },
  {
   "cell_type": "markdown",
   "metadata": {},
   "source": [
    "이 망원경으로 본 남쪽 하늘의 어두운 표시와 밝은 성운은 어린 별과 활발한 별 형성의 흔적입니다. 그들은 국부 거품과 카멜레온 분자구름 복합체의 경계에 불과 650광년 떨어져 있습니다. 1946년 세더블라드 목록에서 먼지 반사 성운으로 식별된 어린 별이 있는 지역에는 중앙 바로 위와 중앙 오른쪽에 있는 C자 모양의 Ced 110과 그 아래에 푸른 빛을 띠는 Ced 111이 포함됩니다. 또한 프레임에서 눈에 띄는 것은 새로 형성된 저질량 별에서 흘러나오는 물질에 의해 조각된 카멜레온 적외선 성운(Cha IRN)의 주황색 V자 모양입니다.   잘 구성된 이미지의 범위는 1.5도입니다. 이는 인근 카멜레온 I 분자구름의 추정 거리에서 약 17광년에 해당합니다."
   ]
  },
  {
   "cell_type": "markdown",
   "metadata": {},
   "source": [
    "![-](https://apod.nasa.gov/apod/image/2405/Cederblad111-110_1024.jpg)"
   ]
  },
  {
   "cell_type": "markdown",
   "metadata": {},
   "source": []
  }
 ],
 "metadata": {
  "language_info": {
   "name": "python"
  }
 },
 "nbformat": 4,
 "nbformat_minor": 2
}

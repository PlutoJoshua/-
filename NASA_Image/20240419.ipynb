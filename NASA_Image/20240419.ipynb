{
 "cells": [
  {
   "cell_type": "code",
   "execution_count": null,
   "metadata": {},
   "outputs": [],
   "source": [
    "{\n",
    "  \"copyright\": \"Demison Lopes\",\n",
    "  \"date\": \"2024-04-19\",\n",
    "  \"explanation\": \"A jewel of the southern sky, the Great Carina Nebula is more modestly known as NGC 3372. One of our Galaxy's largest star forming regions, it spans over 300 light-years. Like the smaller, more northerly Great Orion Nebula, the Carina Nebula is easily visible to the unaided eye. But at a distance of 7,500 light-years it lies some 5 times farther away. This stunning telescopic view reveals remarkable details of the region's glowing filaments of interstellar gas and obscuring cosmic dust clouds. The Carina Nebula is home to young, extremely massive stars, including the still enigmatic variable Eta Carinae, a star with well over 100 times the mass of the Sun.  Eta Carinae is the bright star above the central dark notch in this field and left of the dusty Keyhole Nebula (NGC 3324).\",\n",
    "  \"hdurl\": \"https://apod.nasa.gov/apod/image/2404/NGC3372_ETA CARINA_LOPES.jpg\",\n",
    "  \"media_type\": \"image\",\n",
    "  \"service_version\": \"v1\",\n",
    "  \"title\": \"The Great Carina Nebula\",\n",
    "  \"url\": \"https://apod.nasa.gov/apod/image/2404/NGC3372_ETA CARINA_LOPES1024.jpg\"\n",
    "}"
   ]
  },
  {
   "cell_type": "markdown",
   "metadata": {},
   "source": [
    "남쪽 하늘의 보석인 대용골 성운은 NGC 3372로 더 잘 알려져 있습니다. 우리 은하의 가장 큰 별 탄생 지역 중 하나이며, 그 크기는 300광년 이상입니다. 더 작고 더 북쪽에 있는 대오리온 성운처럼 용골자리 성운도 육안으로 쉽게 볼 수 있습니다. 그러나 7,500광년 거리에 있는 이 별은 약 5배 더 멀리 떨어져 있습니다. 이 멋진 망원경 사진은 이 지역의 빛나는 성간 가스 필라멘트와 가리고 있는 우주 먼지 구름의 놀라운 세부 묘사를 보여줍니다. 용골 성운은 태양 질량의 100배가 훨씬 넘는 별인 여전히 수수께끼의 변광성 용골자리 에타를 포함하여 젊고 매우 무거운 별들의 본거지입니다. 용골자리 에타(Eta Carinae)는 먼지로 가득한 열쇠구멍 성운(NGC 3324)의 왼쪽이자 이 영역의 중앙 어두운 노치 위에 있는 밝은 별입니다."
   ]
  },
  {
   "cell_type": "markdown",
   "metadata": {},
   "source": [
    "![-](https://github.com/PlutoJoshua/Python/blob/main/NASA_Image/Photo/20240419.jpg?raw=true)"
   ]
  }
 ],
 "metadata": {
  "language_info": {
   "name": "python"
  }
 },
 "nbformat": 4,
 "nbformat_minor": 2
}

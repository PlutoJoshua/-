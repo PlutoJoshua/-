{
 "cells": [
  {
   "cell_type": "code",
   "execution_count": null,
   "metadata": {},
   "outputs": [],
   "source": [
    "{\n",
    "  \"date\": \"2024-05-07\",\n",
    "  \"explanation\": \"What happens when a black hole devours a star?  Many details remain unknown, but observations are providing new clues. In 2014, a powerful explosion was recorded by the ground-based robotic telescopes of the All Sky Automated Survey for SuperNovae (Project ASAS-SN), with followed-up observations by instruments including NASA's Earth-orbiting Swift satellite. Computer modeling of these emissions fit a star being ripped apart by a distant supermassive black hole.  The results of such a collision are portrayed in the featured artistic illustration. The black hole itself is a depicted as a tiny black dot in the center. As matter falls toward the hole, it collides with other matter and heats up. Surrounding the black hole is an accretion disk of hot matter that used to be the star, with a jet emanating from the black hole's spin axis.   Fall towards eternity: It's Black Hole Week at NASA!\",\n",
    "  \"hdurl\": \"https://apod.nasa.gov/apod/image/2405/BlackHole_Simonnet_2491.jpg\",\n",
    "  \"media_type\": \"image\",\n",
    "  \"service_version\": \"v1\",\n",
    "  \"title\": \"Black Hole Accreting with Jet\",\n",
    "  \"url\": \"https://apod.nasa.gov/apod/image/2405/BlackHole_Simonnet_960.jpg\"\n",
    "}"
   ]
  },
  {
   "cell_type": "markdown",
   "metadata": {},
   "source": [
    "블랙홀이 별을 삼키면 어떻게 될까요? 많은 세부 사항은 아직 알려지지 않았지만 관찰 결과는 새로운 단서를 제공하고 있습니다. 2014년에는 초신성 전천 자동 조사(Project ASAS-SN)의 지상 기반 로봇 망원경에 의해 강력한 폭발이 기록되었으며, NASA의 지구 궤도 스위프트 위성을 포함한 장비를 통한 후속 관측이 이루어졌습니다. 이러한 방출에 대한 컴퓨터 모델링은 멀리 떨어진 초대질량 블랙홀에 의해 별이 찢어지는 것과 일치합니다. 그러한 충돌의 결과는 특집 예술 그림에 묘사되어 있습니다. 블랙홀 자체는 중앙에 작은 검은 점으로 묘사됩니다. 물질이 구멍쪽으로 떨어지면서 다른 물질과 충돌하여 가열됩니다. 블랙홀 주변에는 별이었던 뜨거운 물질의 강착 원반이 있으며, 블랙홀의 회전축에서 제트가 방출됩니다. 영원을 향한 가을: NASA의 블랙홀 주간입니다!"
   ]
  },
  {
   "cell_type": "markdown",
   "metadata": {},
   "source": [
    "![-](https://apod.nasa.gov/apod/image/2405/BlackHole_Simonnet_960.jpg)"
   ]
  },
  {
   "cell_type": "markdown",
   "metadata": {},
   "source": []
  }
 ],
 "metadata": {
  "language_info": {
   "name": "python"
  }
 },
 "nbformat": 4,
 "nbformat_minor": 2
}

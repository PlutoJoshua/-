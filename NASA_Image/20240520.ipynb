{
 "cells": [
  {
   "cell_type": "code",
   "execution_count": null,
   "metadata": {},
   "outputs": [],
   "source": [
    "{\n",
    "  \"copyright\": \"\\nXuecheng Liu & \\nYuxuan Liu\\n\",\n",
    "  \"date\": \"2024-05-20\",\n",
    "  \"explanation\": \"It seemed like night, but part of the sky glowed purple.  It was the now famous night of May 10, 2024, when people over much of the world reported beautiful aurora-filled skies. The featured image was captured this night during early morning hours from Arlington, Wisconsin, USA. The panorama is a composite of several 6-second exposures covering two thirds of the visible sky, with north in the center, and processed to heighten the colors and remove electrical wires. The photographer (in the foreground) reported that the aurora appeared to flow from a point overhead but illuminated the sky only toward the north. The aurora's energetic particles originated from CMEs ejected from our Sun over sunspot AR 6443 a few days before. This large active region rotated to the far side of the Sun last week, but may well survive to rotate back toward the Earth next week.\",\n",
    "  \"hdurl\": \"https://apod.nasa.gov/apod/image/2405/AuroraWisconsin_Liu_6000.jpg\",\n",
    "  \"media_type\": \"image\",\n",
    "  \"service_version\": \"v1\",\n",
    "  \"title\": \"Aurora Dome Sky\",\n",
    "  \"url\": \"https://apod.nasa.gov/apod/image/2405/AuroraWisconsin_Liu_960.jpg\"\n",
    "}"
   ]
  },
  {
   "cell_type": "markdown",
   "metadata": {},
   "source": [
    "밤 같았는데 하늘의 일부가 보라색으로 빛나고 있었습니다. 2024년 5월 10일의 유명한 밤은 전 세계 사람들이 아름다운 오로라로 가득 찬 하늘을 보고한 날이었습니다. 특집 이미지는 오늘 밤 미국 위스콘신 주 알링턴에서 이른 아침 시간에 캡처되었습니다. 파노라마는 북쪽을 중심으로 눈에 보이는 하늘의 2/3를 덮는 여러 개의 6초 노출로 합성되었으며 색상을 높이고 전선을 제거하도록 처리되었습니다. 사진작가(전경)는 오로라가 머리 위의 한 지점에서 흐르는 것처럼 보이지만 북쪽 하늘만 비추고 있다고 보고했습니다. 오로라의 에너지 입자는 며칠 전 태양 흑점 AR 6443 상공에서 방출된 CME에서 유래했습니다. 이 넓은 활성 지역은 지난주 태양 반대편으로 회전했지만 다음 주에는 지구를 향해 다시 회전하여 살아남을 수도 있습니다."
   ]
  },
  {
   "cell_type": "markdown",
   "metadata": {},
   "source": [
    "![-](https://apod.nasa.gov/apod/image/2405/AuroraWisconsin_Liu_960.jpg)"
   ]
  },
  {
   "cell_type": "markdown",
   "metadata": {},
   "source": []
  }
 ],
 "metadata": {
  "language_info": {
   "name": "python"
  }
 },
 "nbformat": 4,
 "nbformat_minor": 2
}

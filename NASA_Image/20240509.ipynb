{
 "cells": [
  {
   "cell_type": "code",
   "execution_count": null,
   "metadata": {},
   "outputs": [],
   "source": [
    "{\n",
    "  \"date\": \"2024-05-09\",\n",
    "  \"explanation\": \"Bright elliptical galaxy Messier 87 (M87) is home to the supermassive black hole captured in 2017 by planet Earth's Event Horizon Telescope in the first ever image of a black hole. Giant of the Virgo galaxy cluster about 55 million light-years away, M87 is rendered in blue hues in this infrared image from the Spitzer Space telescope.  Though M87 appears mostly featureless and cloud-like, the Spitzer image does record details of relativistic jets blasting from the galaxy's central region. Shown in the inset at top right, the jets themselves span thousands of light-years. The brighter jet seen on the right is approaching and close to our line of sight. Opposite, the shock created by the otherwise unseen receding jet lights up a fainter arc of material. Inset at bottom right, the historic black hole image is shown in context at the center of giant galaxy, between the relativistic jets. Completely unresolved in the Spitzer image, the supermassive black hole surrounded by infalling material is the source of enormous energy driving the relativistic jets from the center of active galaxy M87. The Event Horizon Telescope image of M87 has been enhanced to reveal a sharper view of the famous supermassive black hole.   It's inescapable: Black Hole Week at NASA!\",\n",
    "  \"hdurl\": \"https://apod.nasa.gov/apod/image/2405/pia23122c-16.jpg\",\n",
    "  \"media_type\": \"image\",\n",
    "  \"service_version\": \"v1\",\n",
    "  \"title\": \"The Galaxy, the Jet, and a Famous Black Hole\",\n",
    "  \"url\": \"https://apod.nasa.gov/apod/image/2405/pia23122c-16_1067.jpg\"\n",
    "}"
   ]
  },
  {
   "cell_type": "markdown",
   "metadata": {},
   "source": [
    "밝은 타원 은하 메시에 87(M87)은 2017년 지구의 사건 지평선 망원경이 최초로 블랙홀 이미지를 포착한 초대질량 블랙홀의 본거지입니다. 약 5,500만 광년 떨어져 있는 처녀자리 은하단의 거대 은하단 M87은 스피처 우주 망원경으로 촬영한 이 적외선 이미지에서 푸른 색조로 렌더링됩니다. M87은 대부분 특징이 없고 구름처럼 보이지만 스피처 이미지는 은하 중심 지역에서 폭발하는 상대론적 제트의 세부 사항을 기록합니다. 오른쪽 상단에 삽입된 그림에서 볼 수 있듯이 제트기 자체는 수천 광년에 걸쳐 펼쳐져 있습니다. 오른쪽에 보이는 더 밝은 제트가 우리 시야에 가까워지고 있습니다. 반대편에는 보이지 않는 후퇴하는 제트에 의해 생성된 충격이 물질의 더 희미한 호를 밝게 비춥니다. 오른쪽 하단에 삽입된 역사적인 블랙홀 이미지는 상대론적 제트 사이에 있는 거대 은하의 중심에 있는 맥락에서 보여집니다. 스피처 영상에서는 전혀 해결되지 않은, 떨어지는 물질로 둘러싸인 초대질량 블랙홀은 활동은하 M87의 중심에서 상대론적 제트를 몰아내는 엄청난 에너지의 원천이다. M87의 이벤트 호라이즌 망원경 이미지가 향상되어 유명한 초거대 블랙홀을 더 선명하게 볼 수 있습니다. 피할 수 없습니다: NASA의 블랙홀 주간!"
   ]
  },
  {
   "cell_type": "markdown",
   "metadata": {},
   "source": [
    "![-](https://apod.nasa.gov/apod/image/2405/pia23122c-16_1067.jpg)"
   ]
  },
  {
   "cell_type": "markdown",
   "metadata": {},
   "source": []
  }
 ],
 "metadata": {
  "language_info": {
   "name": "python"
  }
 },
 "nbformat": 4,
 "nbformat_minor": 2
}

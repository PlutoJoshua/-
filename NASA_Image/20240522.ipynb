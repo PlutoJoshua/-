{
 "cells": [
  {
   "cell_type": "code",
   "execution_count": null,
   "metadata": {},
   "outputs": [],
   "source": [
    "{\n",
    "  \"copyright\": \"\\nGöran Strand\\n\",\n",
    "  \"date\": \"2024-05-22\",\n",
    "  \"explanation\": \"It was bright and green and stretched across the sky. This striking aurora display was captured in 2016 just outside of Östersund, Sweden. Six photographic fields were merged to create the featured panorama spanning almost 180 degrees.  Particularly striking aspects of this aurora include its sweeping arc-like shape and its stark definition.  Lake Storsjön is seen in the foreground, while several familiar constellations and the star Polaris are visible through the aurora, far in the background.  Coincidently, the aurora appears to avoid the Moon visible on the lower left.  The aurora appeared a day after a large hole opened in the Sun's corona, allowing particularly energetic particles to flow out into the Solar System.  The green color of the aurora is caused by oxygen atoms recombining with ambient electrons high in the Earth's atmosphere.   Your Sky Surprise: What picture did APOD feature on your birthday? (post 1995)\",\n",
    "  \"hdurl\": \"https://apod.nasa.gov/apod/image/2405/AuroraSweden_Strand_1500.jpg\",\n",
    "  \"media_type\": \"image\",\n",
    "  \"service_version\": \"v1\",\n",
    "  \"title\": \"Green Aurora over Sweden\",\n",
    "  \"url\": \"https://apod.nasa.gov/apod/image/2405/AuroraSweden_Strand_960.jpg\"\n",
    "}"
   ]
  },
  {
   "cell_type": "markdown",
   "metadata": {},
   "source": [
    "그것은 밝고 녹색이었고 하늘을 가로질러 뻗어 있었습니다. 이 놀라운 오로라 광경은 2016년 스웨덴 외스테르순드 외곽에서 촬영되었습니다. 6개의 사진 필드를 병합하여 거의 180도에 걸친 특집 파노라마를 만들었습니다. 이 오로라의 특히 눈에 띄는 측면은 원호 모양과 뚜렷한 정의를 포함합니다. 전경에는 Storsjön 호수가 보이고, 멀리 배경에는 오로라를 통해 몇 개의 친숙한 별자리와 별 Polaris가 보입니다. 공교롭게도 오로라는 왼쪽 하단에 보이는 달을 피해 나타나는 것처럼 보입니다. 오로라는 태양의 코로나에 큰 구멍이 뚫린 지 하루 만에 나타났고, 이로 인해 특히 에너지가 풍부한 입자가 태양계로 흘러나오게 되었습니다. 오로라의 녹색은 산소 원자가 지구 대기권의 주변 전자와 재결합하여 발생합니다. 당신의 하늘 놀라움: APOD가 당신의 생일에 어떤 사진을 선보였나요? (1995년 이후)"
   ]
  },
  {
   "cell_type": "markdown",
   "metadata": {},
   "source": [
    "![-](https://apod.nasa.gov/apod/image/2405/AuroraSweden_Strand_1500.jpg)"
   ]
  }
 ],
 "metadata": {
  "kernelspec": {
   "display_name": "base",
   "language": "python",
   "name": "python3"
  },
  "language_info": {
   "name": "python",
   "version": "3.11.5"
  }
 },
 "nbformat": 4,
 "nbformat_minor": 2
}

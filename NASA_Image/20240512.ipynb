{
 "cells": [
  {
   "cell_type": "code",
   "execution_count": null,
   "metadata": {},
   "outputs": [],
   "source": [
    "{\n",
    "  \"copyright\": \"\\nMariusz Durlej\\n\",\n",
    "  \"date\": \"2024-05-12\",\n",
    "  \"explanation\": \"Northern lights don't usually reach this far south.  Magnetic chaos in the Sun's huge Active Region 3664, however, produced a surface explosion that sent a burst of electrons, protons, and more massive, charged nuclei into the Solar System. A few days later, that coronal mass ejection (CME) impacted the Earth and triggered auroras that are being reported unusually far from our planet's north and south poles.  The free sky show might not be over -- the sunspot rich AR3664 has ejected even more CMEs that might also impact the Earth tonight or tomorrow. That active region is now near the Sun's edge, though, and will soon be rotating away from the Earth.  Pictured, a red and rayed aurora was captured in a single 6-second exposure from Racibórz, Poland early last night.  The photographer's friend, seeing an aurora for the first time, is visible in the distance also taking images of the beautifully colorful nighttime sky.   Gallery: Global Aurora from Solar Active Region 6443\",\n",
    "  \"hdurl\": \"https://apod.nasa.gov/apod/image/2405/AuroraPoland_Durlej_1940.jpg\",\n",
    "  \"media_type\": \"image\",\n",
    "  \"service_version\": \"v1\",\n",
    "  \"title\": \"Red Aurora over Poland\",\n",
    "  \"url\": \"https://apod.nasa.gov/apod/image/2405/AuroraPoland_Durlej_960.jpg\"\n",
    "}"
   ]
  },
  {
   "cell_type": "markdown",
   "metadata": {},
   "source": [
    "북극광은 보통 이 남쪽까지 도달하지 않습니다. 그러나 태양의 거대한 활성 영역 3664의 자기 혼돈은 표면 폭발을 일으켜 전자, 양성자 및 더 무거운 전하 핵을 태양계로 보냈습니다. 며칠 후, 코로나 질량 방출(CME)이 지구에 영향을 미쳐 지구의 북극과 남극에서 비정상적으로 멀리 떨어진 곳에서 오로라가 발생했다고 보고되었습니다. 자유 하늘 쇼는 끝나지 않았을 수도 있습니다. 풍부한 흑점 AR3664는 오늘 밤이나 내일 지구에 영향을 미칠 수 있는 훨씬 더 많은 CME를 방출했습니다. 하지만 그 활성 지역은 현재 태양 가장자리 근처에 있으며 곧 지구로부터 멀어지게 회전할 것입니다. 사진에는 어젯밤 폴란드 Racibórz에서 6초 노출로 붉게 빛나는 오로라가 포착되었습니다. 처음으로 오로라를 본 사진작가의 친구도 멀리서 아름답고 다채로운 밤하늘을 촬영하고 있는 모습이 보입니다. 갤러리: 태양 활동 지역 6443의 글로벌 오로라"
   ]
  },
  {
   "cell_type": "markdown",
   "metadata": {},
   "source": [
    "![-](https://apod.nasa.gov/apod/image/2405/AuroraPoland_Durlej_960.jpg)"
   ]
  },
  {
   "cell_type": "markdown",
   "metadata": {},
   "source": []
  }
 ],
 "metadata": {
  "language_info": {
   "name": "python"
  }
 },
 "nbformat": 4,
 "nbformat_minor": 2
}

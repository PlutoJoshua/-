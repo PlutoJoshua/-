{
 "cells": [
  {
   "cell_type": "code",
   "execution_count": null,
   "metadata": {},
   "outputs": [],
   "source": [
    "{\n",
    "  \"date\": \"2024-05-25\",\n",
    "  \"explanation\": \"Orbiting 400 kilometers above Quebec, Canada, planet Earth, the International Space Station Expedition 59 crew captured this snapshot of the broad St. Lawrence River and curiously circular Lake Manicouagan on April 11. Right of center, the ring-shaped lake is a modern reservoir within the eroded remnant of an ancient 100 kilometer diameter impact crater. The ancient crater is very conspicuous from orbit, a visible reminder that Earth is vulnerable to rocks from space. Over 200 million years old, the Manicouagan crater was likely caused by the impact of a rocky body about 5 kilometers in diameter.  Currently, there is no known asteroid with a significant probability of impacting Earth in the next century.  Each month, NASA’s Planetary Defense Coordination Office releases an update featuring the most recent figures on near-Earth object close approaches, and other facts about comets and asteroids that could pose a potential impact hazard with Earth.\",\n",
    "  \"hdurl\": \"https://apod.nasa.gov/apod/image/2405/iss059e019043.jpg\",\n",
    "  \"media_type\": \"image\",\n",
    "  \"service_version\": \"v1\",\n",
    "  \"title\": \"Manicouagan Impact Crater from Space\",\n",
    "  \"url\": \"https://apod.nasa.gov/apod/image/2405/iss059e019043_1024.jpg\"\n",
    "}"
   ]
  },
  {
   "cell_type": "markdown",
   "metadata": {},
   "source": [
    "행성 지구인 캐나다 퀘벡 상공 400km 상공을 선회하는 국제 우주 정거장 탐험 59 승무원은 4월 11일에 넓은 세인트 로렌스 강과 신기하게 원형인 마니쿠아간 호수의 스냅샷을 포착했습니다. 중앙 오른쪽에 있는 고리 모양의 호수는 현대식 저수지입니다. 직경 100km의 고대 충돌 분화구의 침식된 잔해 안에 있습니다. 고대 분화구는 궤도에서 매우 눈에 띄며, 이는 지구가 우주의 암석에 취약하다는 것을 시각적으로 상기시켜 줍니다. 2억년이 넘은 Manicouagan 분화구는 직경 약 5km의 암석체의 충격으로 인해 발생했을 가능성이 높습니다. 현재, 다음 세기에 지구에 영향을 미칠 가능성이 큰 소행성은 알려진 바 없습니다. 매달 NASA의 행성방어조정실(Planetary Defense Coordination Office)은 지구 가까이 접근하는 물체에 대한 최신 수치와 지구에 잠재적인 충격 위험을 초래할 수 있는 혜성과 소행성에 관한 기타 사실을 담은 업데이트를 발표합니다."
   ]
  },
  {
   "cell_type": "markdown",
   "metadata": {},
   "source": [
    "![-](https://apod.nasa.gov/apod/image/2405/iss059e019043_1024.jpg)"
   ]
  },
  {
   "cell_type": "markdown",
   "metadata": {},
   "source": []
  }
 ],
 "metadata": {
  "kernelspec": {
   "display_name": "base",
   "language": "python",
   "name": "python3"
  },
  "language_info": {
   "name": "python",
   "version": "3.11.5"
  }
 },
 "nbformat": 4,
 "nbformat_minor": 2
}

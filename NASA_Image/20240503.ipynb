{
 "cells": [
  {
   "cell_type": "code",
   "execution_count": null,
   "metadata": {},
   "outputs": [],
   "source": [
    "{\n",
    "  \"date\": \"2024-05-03\",\n",
    "  \"explanation\": \"A mere 280 light-years from Earth, tidally locked, Jupiter-sized exoplanet WASP-43b orbits its parent star once every 0.8 Earth days. That puts it about 2 million kilometers (less than 1/25th the orbital distance of Mercury) from a small, cool sun. Still, on a dayside always facing its parent star, temperatures approach a torrid 2,500 degrees F as measured at infrared wavelengths by the MIRI instrument on board the James Webb Space Telescope. In this illustration of the hot exoplanet's orbit, Webb measurements also show nightside temperatures remain above 1,000 degrees F. That suggests that strong equatorial winds circulate the dayside atmospheric gases to the nightside before they can completely cool off. Exoplanet WASP-43b is now formally known as Astrolábos, and its K-type parent star has been christened Gnomon. Webb's infrared spectra indicate water vapor is present on the nightside as well as the dayside of the planet, providing information about cloud cover on Astrolábos.\",\n",
    "  \"hdurl\": \"https://apod.nasa.gov/apod/image/2405/STScI-WASP43b_temperature.png\",\n",
    "  \"media_type\": \"image\",\n",
    "  \"service_version\": \"v1\",\n",
    "  \"title\": \"Temperatures on Exoplanet WASP-43b\",\n",
    "  \"url\": \"https://apod.nasa.gov/apod/image/2405/STScI-WASP43b_temperature.png\"\n",
    "}"
   ]
  },
  {
   "cell_type": "markdown",
   "metadata": {},
   "source": [
    "지구에서 불과 280광년 떨어진 곳에 조석 고정된 목성 크기의 외계 행성 WASP-43b는 지구의 0.8일에 한 번씩 모항성 주위를 공전합니다. 이는 작고 시원한 태양으로부터 약 2백만 킬로미터(수성 궤도 거리의 1/25 미만)에 해당합니다. 그럼에도 불구하고 항상 모별을 향하고 있는 낮의 온도는 제임스 웹 우주 망원경에 탑재된 MIRI 장비의 적외선 파장으로 측정했을 때 화씨 2,500도에 육박합니다. 뜨거운 외계 행성의 궤도에 대한 이 그림에서 Webb 측정은 밤의 온도가 화씨 1,000도 이상으로 유지된다는 것을 보여줍니다. 이는 강한 적도 바람이 낮의 대기 가스를 완전히 식히기 전에 밤쪽으로 순환시킨다는 것을 의미합니다. 외계 행성 WASP-43b는 현재 공식적으로 Astrolábos로 알려져 있으며 K형 모항성은 Gnomon이라는 이름을 받았습니다. Webb의 적외선 스펙트럼은 행성의 낮과 밤에 수증기가 존재함을 나타내며 Astrolábos의 구름 양에 대한 정보를 제공합니다."
   ]
  },
  {
   "cell_type": "markdown",
   "metadata": {},
   "source": [
    "![-](https://apod.nasa.gov/apod/image/2405/STScI-WASP43b_temperature.png)"
   ]
  },
  {
   "cell_type": "markdown",
   "metadata": {},
   "source": []
  }
 ],
 "metadata": {
  "kernelspec": {
   "display_name": "base",
   "language": "python",
   "name": "python3"
  },
  "language_info": {
   "name": "python",
   "version": "3.11.5"
  }
 },
 "nbformat": 4,
 "nbformat_minor": 2
}

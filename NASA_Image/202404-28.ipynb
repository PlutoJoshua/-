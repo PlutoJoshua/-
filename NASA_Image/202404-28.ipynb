{
 "cells": [
  {
   "cell_type": "code",
   "execution_count": null,
   "metadata": {},
   "outputs": [],
   "source": [
    "{\n",
    "  \"copyright\": \"\\nRobert Gendler\\n\",\n",
    "  \"date\": \"2024-04-28\",\n",
    "  \"explanation\": \"The Ring Nebula (M57) is more complicated than it appears through a small telescope.  The easily visible central ring is about one light-year across, but this remarkably deep exposure - a collaborative effort combining data from three different large telescopes - explores the looping filaments of glowing gas extending much farther from the nebula's central star. This composite image includes red light emitted by hydrogen as well as visible and infrared light. The Ring Nebula is an elongated planetary nebula, a type of nebula created when a Sun-like star evolves to throw off its outer atmosphere and become a white dwarf star.  The Ring Nebula is about 2,500 light-years away toward the musical constellation Lyra.   Your Sky Surprise: What picture did APOD feature on your birthday? (post 1995)\",\n",
    "  \"hdurl\": \"https://apod.nasa.gov/apod/image/2404/M57Ring_HubbleGendler_3000.jpg\",\n",
    "  \"media_type\": \"image\",\n",
    "  \"service_version\": \"v1\",\n",
    "  \"title\": \"Rings Around the Ring Nebula\",\n",
    "  \"url\": \"https://apod.nasa.gov/apod/image/2404/M57Ring_HubbleGendler_960.jpg\"\n",
    "}"
   ]
  },
  {
   "cell_type": "markdown",
   "metadata": {},
   "source": [
    "고리 성운(M57)은 작은 망원경을 통해 보이는 것보다 더 복잡합니다. 쉽게 볼 수 있는 중앙 고리의 너비는 약 1광년이지만, 세 개의 서로 다른 대형 망원경의 데이터를 결합한 공동 노력으로 이루어진 이 놀랄 만큼 깊은 노출은 성운의 중심 별에서 훨씬 더 멀리 뻗어나가는 고리 모양의 빛나는 가스 필라멘트를 탐색합니다. 이 합성 이미지에는 수소에서 방출되는 적색광과 가시광선 및 적외선이 포함되어 있습니다. 고리 성운은 길쭉한 행성상 성운으로, 태양과 같은 별이 진화하여 외부 대기를 버리고 백색 왜성이 될 때 생성되는 일종의 성운입니다. 고리 성운은 거문고자리 방향으로 약 2,500광년 떨어져 있습니다. 당신의 하늘 놀라움: APOD가 당신의 생일에 어떤 사진을 선보였나요? (1995년 이후)"
   ]
  },
  {
   "cell_type": "markdown",
   "metadata": {},
   "source": [
    "![-](https://apod.nasa.gov/apod/image/2404/M57Ring_HubbleGendler_960.jpg)"
   ]
  }
 ],
 "metadata": {
  "language_info": {
   "name": "python"
  }
 },
 "nbformat": 4,
 "nbformat_minor": 2
}

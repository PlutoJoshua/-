{
 "cells": [
  {
   "cell_type": "markdown",
   "id": "53b0d8d2",
   "metadata": {},
   "source": [
    "오늘은 집에서 하는거라 코드는 없고 그냥 공식 페이지에서 가져왔다"
   ]
  },
  {
   "cell_type": "markdown",
   "id": "f1cb8eac",
   "metadata": {},
   "source": [
    "우리 태양에게 무슨 일이 일어난 걸까요? 그다지 특이한 것은 없습니다. 단지 필라멘트를 던졌을 뿐입니다. 2012년 중반 무렵, 오래 지속되어 온 태양 필라멘트가 갑자기 우주로 분출되어 강력한 코로나 질량 방출(CME)을 일으켰습니다. 필라멘트는 끊임없이 변화하는 태양의 자기장에 의해 며칠 동안 정체되어 있었고 폭발의 시기는 예상치 못했습니다. 태양 궤도를 도는 태양 역학 관측소(Solar Dynamics Observatory)가 면밀히 관찰한 결과 폭발로 인해 전자와 이온이 태양계로 발사되었으며, 그 중 일부는 3일 후에 지구에 도착하여 지구의 자기권에 영향을 미쳐 가시적인 오로라를 일으켰습니다. 활성 영역을 둘러싸는 플라즈마 루프는 위의 자외선 이미지에서 분출하는 필라멘트 위에서 볼 수 있습니다. 우리 태양은 11년 주기 중 가장 활동적인 시기에 가까워지고 있으며, 전하를 띤 입자를 우주로 방출할 수 있는 많은 코로나 구멍을 만들고 있습니다. 이전과 마찬가지로 이러한 하전 입자는 오로라를 생성할 수 있습니다."
   ]
  },
  {
   "cell_type": "markdown",
   "id": "ead8b077",
   "metadata": {},
   "source": [
    "![-](https://apod.nasa.gov/apod/image/2405/filament_sdo_1080.jpg)"
   ]
  },
  {
   "cell_type": "code",
   "execution_count": null,
   "id": "c4d78d31",
   "metadata": {},
   "outputs": [],
   "source": []
  }
 ],
 "metadata": {
  "kernelspec": {
   "display_name": "Python 3 (ipykernel)",
   "language": "python",
   "name": "python3"
  },
  "language_info": {
   "codemirror_mode": {
    "name": "ipython",
    "version": 3
   },
   "file_extension": ".py",
   "mimetype": "text/x-python",
   "name": "python",
   "nbconvert_exporter": "python",
   "pygments_lexer": "ipython3",
   "version": "3.11.5"
  }
 },
 "nbformat": 4,
 "nbformat_minor": 5
}

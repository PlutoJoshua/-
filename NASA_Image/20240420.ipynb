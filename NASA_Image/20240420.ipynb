{
 "cells": [
  {
   "cell_type": "code",
   "execution_count": null,
   "metadata": {},
   "outputs": [],
   "source": [
    "{\n",
    "  \"copyright\": \"Wright Dobbs\",\n",
    "  \"date\": \"2024-04-20\",\n",
    "  \"explanation\": \"When the dark shadow of the Moon raced across North America on April 8, sky watchers along the shadow's narrow central path were treated to a total solar eclipse. During the New Moon's shadow play diamonds glistened twice in the eclipse-darkened skies. The transient celestial jewels appeared immediately before and after the total eclipse phase. That's when the rays of a vanishing and then emerging sliver of solar disk are just visible behind the silhouetted Moon's edge, creating the appearance of a shiny diamond set in a dark ring. This dramatic timelapse composite from north-central Arkansas captures both diamond ring moments of this total solar eclipse. The diamond rings are separated by the ethereal beauty of the solar corona visible during totality.\",\n",
    "  \"hdurl\": \"https://apod.nasa.gov/apod/image/2404/tse2024Dobbs.jpg\",\n",
    "  \"media_type\": \"image\",\n",
    "  \"service_version\": \"v1\",\n",
    "  \"title\": \"Diamonds in the Sky\",\n",
    "  \"url\": \"https://apod.nasa.gov/apod/image/2404/tse2024Dobbs_1024.jpg\"\n",
    "}"
   ]
  },
  {
   "cell_type": "markdown",
   "metadata": {},
   "source": [
    "4월 8일 달의 어두운 그림자가 북아메리카를 가로질러 지나갔을 때, 그림자의 좁은 중앙 경로를 따라 하늘을 ​​관찰하는 사람들은 개기 일식을 경험하게 되었습니다. 초승달의 그림자 놀이 동안 다이아몬드는 일식으로 어두워진 하늘에서 두 번 반짝였습니다. 일시적인 천상의 보석은 개기일식 단계 직전과 직후에 나타났습니다. 이때 사라지고 다시 떠오르는 태양 원반의 광선이 실루엣이 있는 달의 가장자리 뒤에서 바로 볼 수 있으며, 어두운 고리에 세팅된 반짝이는 다이아몬드처럼 보입니다. 아칸소 중북부에서 찍은 이 극적인 저속 촬영 합성물은 개기 일식의 다이아몬드 반지 순간을 모두 포착합니다. 다이아몬드 반지는 개기일식 동안 보이는 태양 코로나의 영묘한 아름다움으로 분리됩니다"
   ]
  },
  {
   "cell_type": "markdown",
   "metadata": {},
   "source": [
    "![-](https://apod.nasa.gov/apod/image/2404/tse2024Dobbs_1024.jpg)"
   ]
  },
  {
   "cell_type": "markdown",
   "metadata": {},
   "source": []
  }
 ],
 "metadata": {
  "kernelspec": {
   "display_name": "base",
   "language": "python",
   "name": "python3"
  },
  "language_info": {
   "name": "python",
   "version": "3.11.5"
  }
 },
 "nbformat": 4,
 "nbformat_minor": 2
}

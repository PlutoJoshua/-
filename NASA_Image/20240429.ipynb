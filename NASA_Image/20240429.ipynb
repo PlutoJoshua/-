{
 "cells": [
  {
   "cell_type": "code",
   "execution_count": null,
   "metadata": {},
   "outputs": [],
   "source": [
    "{\n",
    "  \"copyright\": \"Juan Carlos Casado\",\n",
    "  \"date\": \"2024-04-29\",\n",
    "  \"explanation\": \"Three bright objects satisfied seasoned stargazers of the western sky just after sunset earlier this month. The most familiar was the Moon, seen on the upper left in a crescent phase. The rest of the Moon was faintly visible by sunlight first reflected by the Earth. The bright planet Jupiter, the largest planet in the Solar System, is seen to the upper left.  Most unusual was Comet 12P/Pons-Brooks, below the Moon and showing a stubby dust tail on the right but an impressive ion tail extending upwards.  The featured image, a composite of several images taken consecutively at the same location and with the same camera, was taken near the village of Llers, in Spain's Girona province.  Comet Pons-Brooks passed its closest to the Sun last week and is now dimming as it moves into southern skies and returns to the outer Solar System.   Almost Hyperspace: Random APOD Generator\",\n",
    "  \"hdurl\": \"https://apod.nasa.gov/apod/image/2404/CometTriple_Casado_2000.jpg\",\n",
    "  \"media_type\": \"image\",\n",
    "  \"service_version\": \"v1\",\n",
    "  \"title\": \"Comet, Planet, Moon\",\n",
    "  \"url\": \"https://apod.nasa.gov/apod/image/2404/CometTriple_Casado_1080.jpg\"\n",
    "}"
   ]
  },
  {
   "cell_type": "markdown",
   "metadata": {},
   "source": [
    "세 개의 밝은 물체가 이달 초 일몰 직후 서쪽 하늘의 노련한 별 관찰자를 만족시켰습니다. 가장 친숙한 것은 초승달 모양의 왼쪽 상단에 보이는 달이었습니다. 달의 나머지 부분은 지구에 의해 처음 반사된 햇빛에 의해 희미하게 보입니다. 태양계에서 가장 큰 행성인 밝은 행성 목성이 왼쪽 상단에 보입니다. 가장 특이한 것은 달 아래에 있는 혜성 12P/폰스-브룩스(Comet 12P/Pons-Brooks)로, 오른쪽에는 뭉툭한 먼지 꼬리가 있지만 인상적인 이온 꼬리는 위쪽으로 뻗어 있습니다. 같은 위치에서 같은 카메라로 연속 촬영한 여러 장의 사진을 합성한 위 사진은 스페인 지로나 지방의 예르스(Llers) 마을 근처에서 촬영되었습니다. 폰스-브룩 혜성은 지난 주 태양에 가장 가까운 지점을 통과했으며 이제 남쪽 하늘로 이동하고 태양계 바깥쪽으로 돌아오면서 어두워지고 있습니다."
   ]
  },
  {
   "cell_type": "markdown",
   "metadata": {},
   "source": [
    "![-](https://apod.nasa.gov/apod/image/2404/CometTriple_Casado_1080.jpg)"
   ]
  },
  {
   "cell_type": "markdown",
   "metadata": {},
   "source": []
  }
 ],
 "metadata": {
  "language_info": {
   "name": "python"
  }
 },
 "nbformat": 4,
 "nbformat_minor": 2
}

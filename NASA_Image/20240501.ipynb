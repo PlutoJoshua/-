{
 "cells": [
  {
   "cell_type": "code",
   "execution_count": null,
   "metadata": {},
   "outputs": [],
   "source": [
    "{\n",
    "  \"copyright\": \"\\nRoberto Colombari & \\nMauro Narduzzi\\n\",\n",
    "  \"date\": \"2024-05-01\",\n",
    "  \"explanation\": \"To some, this nebula looks like the head of a fish. However, this colorful cosmic portrait really features glowing gas and obscuring dust clouds in IC 1795, a star forming region in the northern constellation Cassiopeia. The nebula's colors were created by adopting the Hubble color palette for mapping narrowband emissions from oxygen, hydrogen, and sulfur atoms to blue, green and red colors, and further blending the data with images of the region recorded through broadband filters. Not far on the sky from the famous Double Star Cluster in Perseus, IC 1795 is itself located next to IC 1805, the Heart Nebula, as part of a complex of star forming regions that lie at the edge of a large molecular cloud. Located just over 6,000 light-years away, the larger star forming complex sprawls along the Perseus spiral arm of our Milky Way Galaxy. At that distance, IC 1795 would span about 70 light-years across.   Open Science: Browse 3,300+ codes in the Astrophysics Source Code Library\",\n",
    "  \"hdurl\": \"https://apod.nasa.gov/apod/image/2405/FishheadB_Colombari_2704.jpg\",\n",
    "  \"media_type\": \"image\",\n",
    "  \"service_version\": \"v1\",\n",
    "  \"title\": \"IC 1795: The Fishhead Nebula\",\n",
    "  \"url\": \"https://apod.nasa.gov/apod/image/2405/FishheadB_Colombari_960.jpg\"\n",
    "}"
   ]
  },
  {
   "cell_type": "markdown",
   "metadata": {},
   "source": [
    "어떤 사람들에게는 이 성운이 물고기 머리처럼 보입니다. 하지만 이 다채로운 우주 초상화는 북쪽 별자리 카시오페이아의 별 형성 지역인 IC 1795의 빛나는 가스와 가려진 먼지 구름을 실제로 보여줍니다. 성운의 색상은 산소, 수소, 황 원자의 협대역 방출을 파란색, 녹색, 빨간색으로 매핑하고 광대역 필터를 통해 기록된 해당 지역의 이미지와 데이터를 추가로 혼합하기 위해 허블 색상 팔레트를 채택하여 생성되었습니다. 페르세우스자리의 유명한 쌍성단에서 멀지 않은 하늘에 있는 IC 1795는 심장 성운인 IC 1805 옆에 위치하고 있으며, 거대한 분자 구름 가장자리에 있는 별 탄생 지역 복합체의 일부입니다. 6,000광년 이상 떨어진 곳에 위치한 이 더 큰 별 형성 단지는 우리 은하계의 페르세우스 나선팔을 따라 펼쳐져 있습니다. 그 거리에서 IC 1795의 너비는 약 70광년에 달합니다. 오픈 사이언스: 천체 물리학 소스 코드 라이브러리에서 3,300개 이상의 코드 검색"
   ]
  },
  {
   "cell_type": "markdown",
   "metadata": {},
   "source": [
    "![-](https://apod.nasa.gov/apod/image/2405/FishheadB_Colombari_960.jpg)"
   ]
  },
  {
   "cell_type": "markdown",
   "metadata": {},
   "source": []
  }
 ],
 "metadata": {
  "language_info": {
   "name": "python"
  }
 },
 "nbformat": 4,
 "nbformat_minor": 2
}

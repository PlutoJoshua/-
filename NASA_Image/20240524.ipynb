{
 "cells": [
  {
   "cell_type": "code",
   "execution_count": null,
   "metadata": {},
   "outputs": [],
   "source": [
    "{\n",
    "  \"date\": \"2024-05-24\",\n",
    "  \"explanation\": \"Star formation can be messy. To help find out just how messy, ESA's new Sun-orbiting Euclid telescope recently captured the most detailed image ever of the bright star forming region M78. Near the image center, M78 lies at a distance of only about 1,300 light-years away and has a main glowing core that spans about 5 light-years.  The featured image was taken in both visible and infrared light. The purple tint in M78's center is caused by dark dust preferentially reflecting the blue light of hot, young stars.  Complex dust lanes and filaments can be traced through this gorgeous and revealing skyscape. On the upper left is associated star forming region NGC 2071, while a third region of star formation is visible on the lower right.  These nebulas are all part of the vast Orion Molecular Cloud Complex which can be found with even a small telescope just north of Orion's belt.   More Euclid Sky Candy: Recent images released from Euclid\",\n",
    "  \"hdurl\": \"https://apod.nasa.gov/apod/image/2405/M78_Euclid_5532.jpg\",\n",
    "  \"media_type\": \"image\",\n",
    "  \"service_version\": \"v1\",\n",
    "  \"title\": \"M78 from the Euclid Space Telescope\",\n",
    "  \"url\": \"https://apod.nasa.gov/apod/image/2405/M78_Euclid_960.jpg\"\n",
    "}"
   ]
  },
  {
   "cell_type": "markdown",
   "metadata": {},
   "source": [
    "별 형성은 지저분할 수 있습니다. 얼마나 혼란스러운지 알아보기 위해 ESA의 새로운 태양 궤도 유클리드 망원경은 최근 밝은 별 형성 영역 M78의 가장 상세한 이미지를 포착했습니다. 이미지 중심 근처에 있는 M78은 약 1,300광년 거리에 있으며 약 5광년에 걸쳐 빛나는 주핵을 가지고 있습니다.   위의 이미지는 가시광선과 적외선 모두에서 촬영되었습니다. M78 중심의 보라색 색조는 뜨겁고 어린 별의 푸른 빛을 우선적으로 반사하는 어두운 먼지로 인해 발생합니다.   이 아름답고 눈에 띄는 하늘 풍경을 통해 복잡한 먼지 띠와 필라멘트를 추적할 수 있습니다. 왼쪽 상단에는 별 형성 영역 NGC 2071이 연관되어 있으며, 오른쪽 하단에는 별 형성의 세 번째 영역이 보입니다.   이 성운은 모두 오리온 벨트 북쪽의 작은 망원경으로도 찾을 수 있는 거대한 오리온 분자 구름 복합체의 일부입니다.    더 많은 유클리드 스카이 캔디: 유클리드에서 공개된 최근 이미지"
   ]
  },
  {
   "cell_type": "markdown",
   "metadata": {},
   "source": [
    "![-](https://apod.nasa.gov/apod/image/2405/M78_Euclid_5532.jpg)"
   ]
  },
  {
   "cell_type": "markdown",
   "metadata": {},
   "source": []
  }
 ],
 "metadata": {
  "kernelspec": {
   "display_name": "base",
   "language": "python",
   "name": "python3"
  },
  "language_info": {
   "name": "python",
   "version": "3.11.5"
  }
 },
 "nbformat": 4,
 "nbformat_minor": 2
}

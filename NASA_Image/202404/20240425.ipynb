{
 "cells": [
  {
   "cell_type": "code",
   "execution_count": null,
   "metadata": {},
   "outputs": [],
   "source": [
    "{\n",
    "  \"date\": \"2024-04-25\",\n",
    "  \"explanation\": \"Located some 3 million light-years away in the arms of nearby spiral galaxy M33, giant stellar nursery NGC 604 is about 1,300 light-years across. That's nearly 100 times the size of the Milky Way's Orion Nebula, the closest large star forming region to planet Earth. In fact, among the star forming regions within the Local Group of galaxies, NGC 604 is second in size only to 30 Doradus, also known as the Tarantula Nebula in the Large Magellanic Cloud. Cavernous bubbles and cavities in NGC 604 fill this stunning infrared image from the James Webb Space Telescope's NIRCam. They are carved out by energetic stellar winds from the region's more than 200 hot, massive, young stars, all still in early stages of their lives.\",\n",
    "  \"hdurl\": \"https://apod.nasa.gov/apod/image/2404/stsci-xNGC604NIRcam2048.png\",\n",
    "  \"media_type\": \"image\",\n",
    "  \"service_version\": \"v1\",\n",
    "  \"title\": \"NGC 604: Giant Stellar Nursery\",\n",
    "  \"url\": \"https://apod.nasa.gov/apod/image/2404/stsci-xNGC604NIRcam1024.png\"\n",
    "}"
   ]
  },
  {
   "cell_type": "markdown",
   "metadata": {},
   "source": [
    "근처 나선은하 M33 팔 안쪽에 약 300만 광년 떨어진 곳에 위치한 거대 별의 보육원 NGC 604는 지름이 약 1,300광년이다. 이는 지구에서 가장 가까운 큰 별 형성 지역인 은하수의 오리온 성운 크기의 거의 100배에 해당합니다. 사실, 국부은하군 내의 별 형성 지역 중에서 NGC 604는 크기가 황새치 30개에 이어 두 번째로 크며, 이는 대마젤란운의 타란툴라 성운으로도 알려져 있습니다. NGC 604의 동굴 같은 거품과 구멍이 제임스 웹 우주 망원경의 NIRCam으로 촬영한 이 놀라운 적외선 이미지를 가득 채웁니다. 이 별들은 이 지역의 200개 이상의 뜨겁고 거대하며 어린 별들로부터 나오는 강력한 항성풍에 의해 조각되었으며, 모두 아직 생애 초기 단계에 있습니다."
   ]
  },
  {
   "cell_type": "markdown",
   "metadata": {},
   "source": [
    "![-](https://apod.nasa.gov/apod/image/2404/stsci-xNGC604NIRcam1024.png)"
   ]
  },
  {
   "cell_type": "markdown",
   "metadata": {},
   "source": []
  }
 ],
 "metadata": {
  "language_info": {
   "name": "python"
  }
 },
 "nbformat": 4,
 "nbformat_minor": 2
}

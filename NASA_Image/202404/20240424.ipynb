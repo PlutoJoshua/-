{
 "cells": [
  {
   "cell_type": "code",
   "execution_count": null,
   "metadata": {},
   "outputs": [],
   "source": [
    "{\n",
    "  \"copyright\": \"\\nRowan Prangley\\n\",\n",
    "  \"date\": \"2024-04-24\",\n",
    "  \"explanation\": \"How did a star form this beautiful nebula?  In the middle of emission nebula NGC 6164 is an unusually massive star.  The central star has been compared to an oyster's pearl and an egg protected by the mythical sky dragons of Ara.  The star, visible in the center of the featured image and catalogued as HD 148937, is so hot that the ultraviolet light it emits heats up gas that surrounds it.  That gas was likely thrown off from the star previously, possibly the result of a gravitational interaction with a looping stellar companion.  Expelled material might have been channeled by the magnetic field of the massive star, in all creating the symmetric shape of the bipolar nebula.  NGC 6164 spans about four light years and is located about 3,600 light years away toward the southern constellation Norma.   New Mirror: APOD now available via WhatsApp\",\n",
    "  \"hdurl\": \"https://apod.nasa.gov/apod/image/2404/DragonsEgg_Prangley_4688.jpg\",\n",
    "  \"media_type\": \"image\",\n",
    "  \"service_version\": \"v1\",\n",
    "  \"title\": \"Dragon's Egg Bipolar Emission Nebula\",\n",
    "  \"url\": \"https://apod.nasa.gov/apod/image/2404/DragonsEgg_Prangley_960.jpg\"\n",
    "}"
   ]
  },
  {
   "cell_type": "markdown",
   "metadata": {},
   "source": [
    "별은 어떻게 이 아름다운 성운을 형성했을까요? 방출 성운 NGC 6164의 중앙에는 유난히 무거운 별이 있습니다. 중앙 별은 굴의 진주와 아라의 신화적인 하늘 용이 보호하는 알에 비유되었습니다. 위 사진 중앙에 보이는 이 별은 HD 148937로 등록되어 있으며 너무 뜨거워서 방출하는 자외선으로 인해 주변 가스가 가열됩니다. 그 가스는 이전에 별에서 방출되었을 가능성이 높으며, 아마도 순환하는 별과의 중력 상호 작용의 결과일 수 있습니다. 방출된 물질은 거대한 별의 자기장에 의해 전달되어 양극 성운의 대칭 모양을 형성했을 수 있습니다. NGC 6164는 약 4광년에 걸쳐 펼쳐져 있으며 남쪽 별자리 노르마(Norma) 방향으로 약 3,600광년 떨어져 있습니다. 새로운 미러: 이제 WhatsApp을 통해 APOD를 사용할 수 있습니다."
   ]
  },
  {
   "cell_type": "markdown",
   "metadata": {},
   "source": [
    "![-](https://apod.nasa.gov/apod/image/2404/DragonsEgg_Prangley_960.jpg)"
   ]
  },
  {
   "cell_type": "markdown",
   "metadata": {},
   "source": []
  }
 ],
 "metadata": {
  "language_info": {
   "name": "python"
  }
 },
 "nbformat": 4,
 "nbformat_minor": 2
}

{
 "cells": [
  {
   "cell_type": "code",
   "execution_count": null,
   "metadata": {},
   "outputs": [],
   "source": [
    "{\n",
    "  \"copyright\": \"\\nLin Zixuan\\n(Tsinghua U.)\\n\",\n",
    "  \"date\": \"2024-04-17\",\n",
    "  \"explanation\": \"Not one, but two comets appeared near the Sun during last week's total solar eclipse. The expected comet was Comet 12P/Pons-Brooks, but it was disappointingly dimmer than many had hoped. However, relatively unknown Comet SOHO-5008 also appeared in long duration camera exposures. This comet was the 5008th comet identified on images taken by ESA & NASA's Sun-orbiting SOHO spacecraft.  Likely much smaller, Comet SOHO-5008 was a sungrazer which disintegrated within hours as it passed too near the Sun.  The featured image is not only unusual for capturing two comets during an eclipse, but one of the rare times that a sungrazing comet has been photographed from the Earth's surface. Also visible in the image is the sprawling corona of our Sun and the planets Mercury (left) and Venus (right).  Of these planets and comets, only Venus was easily visible to millions of people in the dark shadow of the Moon that crossed North America on April 8.    Solar Eclipse Imagery: Notable Submissions to APOD\",\n",
    "  \"hdurl\": \"https://apod.nasa.gov/apod/image/2404/EclipseComets_Zixuan_6105.jpg\",\n",
    "  \"media_type\": \"image\",\n",
    "  \"service_version\": \"v1\",\n",
    "  \"title\": \"Total Eclipse and Comets\",\n",
    "  \"url\": \"https://apod.nasa.gov/apod/image/2404/EclipseComets_Zixuan_1080.jpg\"\n",
    "}"
   ]
  },
  {
   "cell_type": "markdown",
   "metadata": {},
   "source": [
    "지난주 개기일식 동안 태양 근처에 하나도 아니고 두 개의 혜성이 나타났습니다. 예상된 혜성은 혜성 12P/폰스-브룩스(Comet 12P/Pons-Brooks)였지만 많은 사람들이 기대했던 것보다 실망스러울 정도로 어두웠습니다. 그러나 상대적으로 알려지지 않은 SOHO-5008 혜성은 장시간 카메라 노출에도 나타났습니다. 이 혜성은 ESA와 NASA의 태양 궤도 SOHO 우주선이 촬영한 이미지에서 확인된 5008번째 혜성입니다. 훨씬 더 작은 혜성 SOHO-5008은 태양 근처를 지나갈 때 몇 시간 만에 분해되는 선그레이저(sungrazer)였습니다. 위 사진은 일식이 진행되는 동안 두 개의 혜성을 포착한 경우가 많을 뿐만 아니라, 태양을 쪼이는 혜성이 지구 표면에서 촬영된 경우도 드문 경우 중 하나입니다. 또한 이미지에서 볼 수 있는 것은 우리 태양과 행성 수성(왼쪽)과 금성(오른쪽)의 거대한 코로나입니다. 이 행성과 혜성 중에서 금성만이 4월 8일 북미를 횡단한 달의 어두운 그림자 속에서 수백만 명의 사람들이 쉽게 볼 수 있었습니다."
   ]
  },
  {
   "cell_type": "markdown",
   "metadata": {},
   "source": [
    "![image](https://apod.nasa.gov/apod/image/2404/EclipseComets_Zixuan_1080.jpg)"
   ]
  },
  {
   "cell_type": "code",
   "execution_count": null,
   "metadata": {},
   "outputs": [],
   "source": []
  }
 ],
 "metadata": {
  "kernelspec": {
   "display_name": "base",
   "language": "python",
   "name": "python3"
  },
  "language_info": {
   "codemirror_mode": {
    "name": "ipython",
    "version": 3
   },
   "file_extension": ".py",
   "mimetype": "text/x-python",
   "name": "python",
   "nbconvert_exporter": "python",
   "pygments_lexer": "ipython3",
   "version": "3.11.5"
  }
 },
 "nbformat": 4,
 "nbformat_minor": 2
}

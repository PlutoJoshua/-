{
 "cells": [
  {
   "cell_type": "code",
   "execution_count": null,
   "metadata": {},
   "outputs": [],
   "source": [
    "{\n",
    "    \"copyright\": \"\\nFatih Ekmen\\n\",\n",
    "    \"date\": \"2024-04-23\",\n",
    "    \"explanation\": \"What created this giant X in the clouds? It was the shadow of contrails illuminated from below. When airplanes fly, humid engine exhaust may form water droplets that might freeze in Earth's cold upper atmosphere.  These persistent streams of water and ice scatter light from the Sun above and so appear bright from below. On rare occasions, though, when the Sun is near the horizon, contrails can be lit from below.  These contrails cast long shadows upwards, shadows that usually go unseen unless there is a high cloud deck. But that was just the case over Istanbul, Türkiye, earlier this month. Contrails occur all over planet Earth and, generally, warm the Earth when the trap infrared light but cool the Earth when they efficiently reflect sunlight. The image was taken by a surprised photographer in the morning on the way to work.\",\n",
    "    \"hdurl\": \"https://apod.nasa.gov/apod/image/2404/ContrailX_Ekmen_2268.jpg\",\n",
    "    \"media_type\": \"image\",\n",
    "    \"service_version\": \"v1\",\n",
    "    \"title\": \"Contrail Shadow X\",\n",
    "    \"url\": \"https://apod.nasa.gov/apod/image/2404/ContrailX_Ekmen_960.jpg\"\n",
    "}"
   ]
  },
  {
   "cell_type": "markdown",
   "metadata": {},
   "source": [
    "무엇이 구름 속에 이 거대한 X를 만들었나요? 그것은 아래에서 비추는 비행운의 그림자였습니다. 비행기가 비행할 때 습한 엔진 배기가스는 지구의 차가운 상층 대기에서 얼어붙을 수 있는 물방울을 형성할 수 있습니다. 이러한 물과 얼음의 지속적인 흐름은 태양 위의 빛을 산란시켜 아래에서 밝게 보입니다. 하지만 드문 경우지만, 태양이 지평선 근처에 있을 때, 비행운은 아래에서 빛을 발할 수 있습니다. 이 비행운은 위쪽으로 긴 그림자를 드리우는데, 높은 구름 갑판이 없으면 일반적으로 보이지 않는 그림자입니다. 그러나 이달 초 터키 이스탄불의 경우도 마찬가지였다. 비행운은 지구 전역에서 발생하며, 일반적으로 적외선을 가두면 지구를 따뜻하게 하지만 햇빛을 효율적으로 반사하면 지구를 식힙니다. 해당 이미지는 아침 출근길에 놀란 사진작가가 촬영한 것입니다."
   ]
  },
  {
   "cell_type": "markdown",
   "metadata": {},
   "source": [
    "![-](https://apod.nasa.gov/apod/image/2404/ContrailX_Ekmen_960.jpg)"
   ]
  },
  {
   "cell_type": "markdown",
   "metadata": {},
   "source": []
  }
 ],
 "metadata": {
  "kernelspec": {
   "display_name": "base",
   "language": "python",
   "name": "python3"
  },
  "language_info": {
   "name": "python",
   "version": "3.11.5"
  }
 },
 "nbformat": 4,
 "nbformat_minor": 2
}

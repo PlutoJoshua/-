{
 "cells": [
  {
   "cell_type": "code",
   "execution_count": null,
   "metadata": {},
   "outputs": [],
   "source": [
    "{\n",
    "  \"copyright\": \"Markus Horn\",\n",
    "  \"date\": \"2024-04-26\",\n",
    "  \"explanation\": \"In northern hemisphere spring, bright star Regulus is easy to spot above the eastern horizon. The alpha star of the constellation Leo, Regulus is the spiky star centered in this telescopic field of view. A mere 79 light-years distant, Regulus is a hot, rapidly spinning star that is known to be part of a multiple star system. Not quite lost in the glare, the fuzzy patch just below Regulus is diffuse starlight from small galaxy Leo I. Leo I is a dwarf spheroidal galaxy, a member of the Local Group of galaxies dominated by our Milky Way Galaxy and the Andromeda Galaxy (M31). About 800 thousand light-years away, Leo I is thought to be the most distant of the known small satellite galaxies orbiting the Milky Way. But dwarf galaxy Leo I has shown evidence of a supermassive black hole at its center, comparable in mass to the black hole at the center of the Milky Way.\",\n",
    "  \"hdurl\": \"https://apod.nasa.gov/apod/image/2404/Regulus_Dwarf_by_Markus_Horn2048.png\",\n",
    "  \"media_type\": \"image\",\n",
    "  \"service_version\": \"v1\",\n",
    "  \"title\": \"Regulus and the Dwarf Galaxy\",\n",
    "  \"url\": \"https://apod.nasa.gov/apod/image/2404/Regulus_Dwarf_by_Markus_Horn1024.png\"\n",
    "}"
   ]
  },
  {
   "cell_type": "markdown",
   "metadata": {},
   "source": [
    "북반구의 봄에는 밝은 별 레굴루스가 동쪽 지평선 위에서 쉽게 발견됩니다. 사자자리의 알파별인 레굴루스는 이 망원경 시야의 중심에 있는 뾰족한 별입니다. 불과 79광년 거리에 있는 레굴루스는 다중성계의 일부로 알려진 뜨겁고 빠르게 회전하는 별입니다. 눈부심 속에서도 잘 보이지 않는 레굴루스 바로 아래의 흐릿한 부분은 작은 은하 사자자리 I의 확산된 별빛입니다. 사자자리 I은 우리 은하와 안드로메다 은하(M31)가 지배하는 국부은하군의 일원인 왜소 타원은하입니다. 약 80만 광년 떨어져 있는 사자자리 1세는 은하수를 공전하는 알려진 작은 위성 은하들 중에서 가장 멀리 떨어져 있는 것으로 생각됩니다. 그러나 왜소은하 사자자리 1세는 은하 중심에 있는 블랙홀과 질량이 비슷한 초대질량 블랙홀이 그 중심에 있다는 증거를 보여주었습니다."
   ]
  },
  {
   "cell_type": "markdown",
   "metadata": {},
   "source": [
    "![-](https://apod.nasa.gov/apod/image/2404/Regulus_Dwarf_by_Markus_Horn1024.png)"
   ]
  }
 ],
 "metadata": {
  "kernelspec": {
   "display_name": "base",
   "language": "python",
   "name": "python3"
  },
  "language_info": {
   "name": "python",
   "version": "3.11.5"
  }
 },
 "nbformat": 4,
 "nbformat_minor": 2
}

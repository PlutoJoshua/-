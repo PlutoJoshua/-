{
 "cells": [
  {
   "cell_type": "code",
   "execution_count": null,
   "metadata": {},
   "outputs": [],
   "source": [
    "{\n",
    "  \"copyright\": \"Tunc Tezel\",\n",
    "  \"date\": \"2024-04-27\",\n",
    "  \"explanation\": \"If the Sun is up but the sky is dark and the horizon is bright all around, you might be standing in the Moon's shadow during a total eclipse of the Sun. In fact, the all-sky Moon shadow shown in this composited panoramic view was captured from a farm near Shirley, Arkansas, planet Earth. The exposures were made under clear skies during the April 8 total solar eclipse. For that location near the center line of the Moon's shadow track, totality lasted over 4 minutes. Along with the solar corona surrounding the silhouette of the Moon planets and stars were visible during the total eclipse phase. Easiest to see here are bright planets Venus and Jupiter, to the lower right and upper left of the eclipsed Sun.\",\n",
    "  \"hdurl\": \"https://apod.nasa.gov/apod/image/2404/20240408h14.jpg\",\n",
    "  \"media_type\": \"image\",\n",
    "  \"service_version\": \"v1\",\n",
    "  \"title\": \"All Sky Moon Shadow\",\n",
    "  \"url\": \"https://apod.nasa.gov/apod/image/2404/tse20240408h14_1024.jpg\"\n",
    "}"
   ]
  },
  {
   "cell_type": "markdown",
   "metadata": {},
   "source": [
    "태양이 떠 있지만 하늘이 어둡고 지평선이 사방으로 밝다면, 개기 일식이 일어나는 동안 달의 그림자 속에 서 있을 수도 있습니다. 사실, 이 합성 파노라마 사진에 보이는 전천후 달 그림자는 행성 지구 아칸소 주 셜리 근처의 한 농장에서 포착한 것입니다. 이 사진은 4월 8일 개기일식이 진행되는 동안 맑은 하늘 아래에서 촬영되었습니다. 달의 그림자 궤도 중심선 근처의 해당 위치에서 개기일식은 4분 이상 지속되었습니다. 달의 실루엣을 둘러싼 태양 코로나와 함께 개기 일식 단계에서 행성과 별이 보였습니다. 여기서 가장 쉽게 볼 수 있는 것은 가려진 태양의 오른쪽 아래와 왼쪽 위에 있는 밝은 행성인 금성과 목성입니다."
   ]
  },
  {
   "cell_type": "markdown",
   "metadata": {},
   "source": [
    "![-](https://apod.nasa.gov/apod/image/2404/20240408h14.jpg)"
   ]
  },
  {
   "cell_type": "markdown",
   "metadata": {},
   "source": []
  }
 ],
 "metadata": {
  "language_info": {
   "name": "python"
  }
 },
 "nbformat": 4,
 "nbformat_minor": 2
}

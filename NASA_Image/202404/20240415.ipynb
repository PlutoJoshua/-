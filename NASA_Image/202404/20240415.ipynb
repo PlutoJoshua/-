{
 "cells": [
  {
   "cell_type": "code",
   "execution_count": null,
   "metadata": {},
   "outputs": [],
   "source": [
    "{\n",
    "  \"date\": \"2024-04-15\",\n",
    "  \"explanation\": \"Something strange happened to this galaxy, but what? Known as the Cigar Galaxy and cataloged as M82, red glowing gas and dust are being cast out from the center.  Although this starburst galaxy was surely stirred up by a recent pass near its neighbor, large spiral galaxy M81, this doesn't fully explain the source of the red-glowing outwardly expanding gas and dust.  Evidence indicates that this material is being driven out by the combined emerging particle winds of many stars, together creating a galactic superwind. In the featured images, a Hubble Space Telescope image in visible light is shown on the left, while a James Webb Space Telescope image of the central region in infrared light is shown on the right.  Detailed inspection of the new Webb image shows, unexpectedly, that this red-glowing dust is associated with hot plasma. Research into the nature of this strange nearby galaxy will surely continue.    Total Eclipse Imagery: Notable Submissions to APOD\",\n",
    "  \"hdurl\": \"https://apod.nasa.gov/apod/image/2404/M82Center_HubbleWebb_2000.jpg\",\n",
    "  \"media_type\": \"image\",\n",
    "  \"service_version\": \"v1\",\n",
    "  \"title\": \"The Cigar Galaxy from Hubble and Webb\",\n",
    "  \"url\": \"https://apod.nasa.gov/apod/image/2404/M82Center_HubbleWebb_1080.jpg\"\n",
    "}"
   ]
  },
  {
   "cell_type": "markdown",
   "metadata": {},
   "source": [
    "![image](https://apod.nasa.gov/apod/image/2404/M82Center_HubbleWebb_2000.jpg)"
   ]
  },
  {
   "cell_type": "code",
   "execution_count": null,
   "metadata": {},
   "outputs": [],
   "source": []
  }
 ],
 "metadata": {
  "language_info": {
   "name": "python"
  }
 },
 "nbformat": 4,
 "nbformat_minor": 2
}

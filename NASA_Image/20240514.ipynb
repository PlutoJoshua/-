{
 "cells": [
  {
   "cell_type": "code",
   "execution_count": null,
   "metadata": {},
   "outputs": [],
   "source": [
    "{\n",
    "  \"copyright\": \"Sergio Eguivar\",\n",
    "  \"date\": \"2024-05-14\",\n",
    "  \"explanation\": \"For the mostly harmless denizens of planet Earth, the brighter stars of open cluster NGC 2169 seem to form a cosmic 37. Did you expect 42? From our perspective, the improbable numerical asterism appears solely by chance. It lies at an estimated distance of 3,300 light-years toward the constellation Orion. As far as galactic or open star clusters go, NGC 2169 is a small one, spanning about 7 light-years.  Formed at the same time from the same cloud of dust and gas, the stars of NGC 2169 are only about 11 million years old. Such clusters are expected to disperse over time as they encounter other stars, interstellar clouds, and experience gravitational tides while hitchhiking through the galaxy. Over four billion years ago, our own Sun was likely formed in a similar open cluster of stars.   Gallery: Earth Aurora from Solar Active Region 3664\",\n",
    "  \"hdurl\": \"https://apod.nasa.gov/apod/image/2405/NGC2169LRGBQHY183HR.jpg\",\n",
    "  \"media_type\": \"image\",\n",
    "  \"service_version\": \"v1\",\n",
    "  \"title\": \"The 37 Cluster\",\n",
    "  \"url\": \"https://apod.nasa.gov/apod/image/2405/NGC2169LRGBQHY183HR_c1024.jpg\"\n",
    "}"
   ]
  },
  {
   "cell_type": "markdown",
   "metadata": {},
   "source": [
    "대부분 무해한 행성 지구의 주민들에게 산개성단 NGC 2169의 더 밝은 별들은 우주의 37을 형성하는 것처럼 보입니다. 42를 예상하셨나요? 우리의 관점에서 볼 때, 있을 법하지 않은 숫자 별표는 단지 우연히 나타나는 것입니다. 이 은하는 오리온자리 방향으로 약 3,300광년 떨어진 곳에 위치해 있다. 은하단이나 산개성단에 관한 한, NGC 2169는 크기가 약 7광년에 달하는 작은 성단입니다. 동일한 먼지와 가스 구름으로 동시에 형성된 NGC 2169의 별들의 나이는 약 1100만 년에 불과합니다. 이러한 성단은 은하계를 히치하이킹하는 동안 다른 별, 성간 구름을 만나고 중력 조수를 경험하면서 시간이 지남에 따라 분산될 것으로 예상됩니다. 40억여 년 전에 우리 태양도 비슷한 산개성단으로 형성되었을 가능성이 높습니다. 갤러리: 태양 활동 지역 3664의 지구 오로라"
   ]
  },
  {
   "cell_type": "markdown",
   "metadata": {},
   "source": [
    "![-](https://apod.nasa.gov/apod/image/2405/NGC2169LRGBQHY183HR_c1024.jpg)"
   ]
  },
  {
   "cell_type": "markdown",
   "metadata": {},
   "source": []
  }
 ],
 "metadata": {
  "kernelspec": {
   "display_name": "base",
   "language": "python",
   "name": "python3"
  },
  "language_info": {
   "name": "python",
   "version": "3.11.5"
  }
 },
 "nbformat": 4,
 "nbformat_minor": 2
}

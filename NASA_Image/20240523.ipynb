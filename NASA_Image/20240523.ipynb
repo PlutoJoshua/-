{
 "cells": [
  {
   "cell_type": "code",
   "execution_count": null,
   "metadata": {},
   "outputs": [],
   "source": [
    "{\n",
    "  \"copyright\": \"Christophe Vergnes\",\n",
    "  \"date\": \"2024-05-23\",\n",
    "  \"explanation\": \"Spiral galaxy NGC 3169 looks to be unraveling like a ball of cosmic yarn. It lies some 70 million light-years away, south of bright star Regulus toward the faint constellation Sextans. Wound up spiral arms are pulled out into sweeping tidal tails as NGC 3169 (left) and neighboring NGC 3166 interact gravitationally. Eventually the galaxies will merge into one, a common fate even for bright galaxies in the local universe. Drawn out stellar arcs and plumes are clear indications of the ongoing gravitational interactions across the deep and colorful galaxy group photo. The telescopic frame spans about 20 arc minutes or about 400,000 light-years at the group's estimated distance, and includes smaller, bluish NGC 3165 to the right. NGC 3169 is also known to shine across the spectrum from radio to X-rays, harboring an active galactic nucleus that is the site of a supermassive black hole.\",\n",
    "  \"hdurl\": \"https://apod.nasa.gov/apod/image/2405/N3169N3166Final.jpg\",\n",
    "  \"media_type\": \"image\",\n",
    "  \"service_version\": \"v1\",\n",
    "  \"title\": \"Unraveling NGC 3169\",\n",
    "  \"url\": \"https://apod.nasa.gov/apod/image/2405/N3169N3166Final1024.jpg\"\n",
    "}"
   ]
  },
  {
   "cell_type": "markdown",
   "metadata": {},
   "source": [
    "나선 은하 NGC 3169는 마치 우주 실의 공처럼 풀리고 있는 것처럼 보입니다. 밝은 별 레굴루스 남쪽, 희미한 육분의자리 방향으로 약 7천만 광년 떨어져 있다. NGC 3169(왼쪽)와 인접한 NGC 3166이 중력 상호 작용을 하면서 감겨진 나선팔이 조석 꼬리를 향해 당겨집니다. 결국 은하들은 하나로 합쳐질 것이며, 이는 지역 우주의 밝은 은하들에게도 공통된 운명이 될 것입니다. 그려진 별의 호와 기둥은 깊고 다채로운 은하군 사진 전반에 걸쳐 진행 중인 중력 상호 작용을 명확하게 나타냅니다. 망원 프레임은 그룹의 추정 거리에서 약 20분 또는 약 400,000광년에 걸쳐 펼쳐져 있으며 오른쪽에 더 작고 푸른 빛을 띠는 NGC 3165를 포함합니다. NGC 3169는 또한 초거대질량 블랙홀이 위치한 활성 은하핵을 품고 있어 전파에서 X선까지 스펙트럼 전체에 걸쳐 빛을 발하는 것으로 알려져 있습니다."
   ]
  },
  {
   "cell_type": "markdown",
   "metadata": {},
   "source": [
    "![-](https://apod.nasa.gov/apod/image/2405/N3169N3166Final1024.jpg)"
   ]
  },
  {
   "cell_type": "markdown",
   "metadata": {},
   "source": []
  }
 ],
 "metadata": {
  "language_info": {
   "name": "python"
  }
 },
 "nbformat": 4,
 "nbformat_minor": 2
}

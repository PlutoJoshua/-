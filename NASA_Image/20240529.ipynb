{
 "cells": [
  {
   "cell_type": "code",
   "execution_count": null,
   "metadata": {},
   "outputs": [],
   "source": [
    "{\n",
    "  \"copyright\": \"\\nMarcin Rosadziński\\n\",\n",
    "  \"date\": \"2024-05-29\",\n",
    "  \"explanation\": \"What happens if you ascend this stairway to the Milky Way? Before answering that, let's understand the beautiful sky you will see.  Most eye-catching is the grand arch of the Milky Way Galaxy, the band that is the central disk of our galaxy which is straight but distorted by the wide-angle nature of this composite image.  Many stars well in front of the Milk Way will be visible, with the bright white star just below the stellar arch being Altair, and the bright blue star above it being Vega.  The air glows green on the left, just above the yellow cloud deck.  The featured image was taken last month on Portugal's Madeira Island in the North Atlantic Ocean.  Oh, and what happens after you reach the top of these stairs and admire the amazing sky is, quite probably, that you then descend down the stairs on the other side.   Your Sky Surprise: What picture did APOD feature on your birthday? (post 1995)\",\n",
    "  \"hdurl\": \"https://apod.nasa.gov/apod/image/2405/StairwayToMilkyway_Marcin_6000.jpg\",\n",
    "  \"media_type\": \"image\",\n",
    "  \"service_version\": \"v1\",\n",
    "  \"title\": \"Stairway to the Milky Way\",\n",
    "  \"url\": \"https://apod.nasa.gov/apod/image/2405/StairwayToMilkyway_Marcin_1080.jpg\"\n",
    "}"
   ]
  },
  {
   "cell_type": "markdown",
   "metadata": {},
   "source": [
    "이 계단을 은하수로 올라가면 어떻게 될까요? 그것에 대답하기 전에, 당신이 보게 될 아름다운 하늘에 대해 먼저 이해해 봅시다. 가장 눈길을 끄는 것은 우리 은하의 중심 원반인 은하수 은하의 웅장한 아치입니다. 이 띠는 직선이지만 이 합성 이미지의 광각 특성으로 인해 왜곡되어 있습니다. 은하수 바로 앞에 많은 별들이 보일 것입니다. 항성 아치 바로 아래에 있는 밝은 흰색 별은 알테어이고, 그 위의 밝은 파란색 별은 베가입니다. 공기는 노란색 구름 갑판 바로 위 왼쪽에서 녹색으로 빛납니다. 위 사진은 지난 달 북대서양에 있는 포르투갈의 마데이라 섬에서 촬영되었습니다. 아, 그리고 이 계단 꼭대기에 도달하여 놀라운 하늘을 감상한 후에 일어나는 일은 아마도 반대쪽 계단을 내려가게 될 것입니다. 당신의 하늘 놀라움: APOD가 당신의 생일에 어떤 사진을 선보였나요? (1995년 이후)"
   ]
  },
  {
   "cell_type": "markdown",
   "metadata": {},
   "source": [
    "![-](https://apod.nasa.gov/apod/image/2405/StairwayToMilkyway_Marcin_1080.jpg)"
   ]
  }
 ],
 "metadata": {
  "language_info": {
   "name": "python"
  }
 },
 "nbformat": 4,
 "nbformat_minor": 2
}

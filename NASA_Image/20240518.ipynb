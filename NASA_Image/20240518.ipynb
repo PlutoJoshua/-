{
 "cells": [
  {
   "cell_type": "code",
   "execution_count": null,
   "metadata": {},
   "outputs": [],
   "source": [
    "{\n",
    "  \"copyright\": \"Chirag Upreti\",\n",
    "  \"date\": \"2024-05-18\",\n",
    "  \"explanation\": \"Graceful star trail arcs reflect planet Earth's daily rotation in this colorful night skyscape. To create the timelapse composite, on May 12 consecutive exposures were recorded with a camera fixed to a tripod on the shores of the Ashokan Reservoir, in the Catskills region of New York, USA. North star Polaris is near the center of the star trail arcs. The broad trail of a waxing crescent Moon is on the left, casting a strong reflection across the reservoir waters. With intense solar activity driving recent geomagnetic storms, the colorful aurora borealis or northern lights, rare to the region, shine under Polaris and the north celestial pole.   AuroraSaurus: Report your aurora observations\",\n",
    "  \"hdurl\": \"https://apod.nasa.gov/apod/image/2405/AuroraStartrails_chiragupreti.jpg\",\n",
    "  \"media_type\": \"image\",\n",
    "  \"service_version\": \"v1\",\n",
    "  \"title\": \"North Celestial Aurora\",\n",
    "  \"url\": \"https://apod.nasa.gov/apod/image/2405/AuroraStartrails_chiragupreti1024.jpg\"\n",
    "}"
   ]
  },
  {
   "cell_type": "markdown",
   "metadata": {},
   "source": [
    "우아한 별 궤적 호는 이 화려한 밤하늘 풍경에 지구의 일일 자전을 반영합니다. 저속 촬영 합성물을 만들기 위해 5월 12일 미국 뉴욕 Catskills 지역의 Ashokan 저수지 기슭에 삼각대에 고정된 카메라를 사용하여 연속 노출을 기록했습니다. 북극성 북극성은 별 트레일 호의 중심 근처에 있습니다. 왼쪽에는 초승달의 넓은 흔적이 저수지 물 위에 강한 반사를 드리우고 있습니다. 최근 지자기 폭풍을 몰고 오는 강렬한 태양 활동으로 인해 이 지역에서는 보기 드문 다채로운 오로라 보레알리스 또는 북극광이 북극성과 천구의 북극 아래에서 빛납니다. AuroraSaurus: 오로라 관찰 보고"
   ]
  },
  {
   "cell_type": "markdown",
   "metadata": {},
   "source": [
    "![-](https://apod.nasa.gov/apod/image/2405/AuroraStartrails_chiragupreti1024.jpg)"
   ]
  },
  {
   "cell_type": "markdown",
   "metadata": {},
   "source": []
  }
 ],
 "metadata": {
  "language_info": {
   "name": "python"
  }
 },
 "nbformat": 4,
 "nbformat_minor": 2
}

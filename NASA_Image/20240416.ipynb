{
 "cells": [
  {
   "cell_type": "code",
   "execution_count": 1,
   "metadata": {},
   "outputs": [
    {
     "data": {
      "text/plain": [
       "{'date': '2024-04-16',\n",
       " 'explanation': \"The explosion is over, but the consequences continue.  About eleven thousand years ago, a star in the constellation of Vela could be seen to explode, creating a strange point of light briefly visible to humans living near the beginning of recorded history.  The outer layers of the star crashed into the interstellar medium, driving a shock wave that is still visible today.  The featured image captures some of that filamentary and gigantic shock in visible light. As gas flies away from the detonated star, it decays and reacts with the interstellar medium, producing light in many different colors and energy bands. Remaining at the center of the Vela Supernova Remnant is a pulsar, a star as dense as nuclear matter that spins around more than ten times in a single second.   Monday's Eclipse Imagery: Notable Submissions to APOD\",\n",
       " 'hdurl': 'https://apod.nasa.gov/apod/image/2404/VelaSnr_CTIO_3989.jpg',\n",
       " 'media_type': 'image',\n",
       " 'service_version': 'v1',\n",
       " 'title': 'Filaments of the Vela Supernova Remnant',\n",
       " 'url': 'https://apod.nasa.gov/apod/image/2404/VelaSnr_CTIO_960.jpg'}"
      ]
     },
     "execution_count": 1,
     "metadata": {},
     "output_type": "execute_result"
    }
   ],
   "source": [
    "{\n",
    "  \"date\": \"2024-04-16\",\n",
    "  \"explanation\": \"The explosion is over, but the consequences continue.  About eleven thousand years ago, a star in the constellation of Vela could be seen to explode, creating a strange point of light briefly visible to humans living near the beginning of recorded history.  The outer layers of the star crashed into the interstellar medium, driving a shock wave that is still visible today.  The featured image captures some of that filamentary and gigantic shock in visible light. As gas flies away from the detonated star, it decays and reacts with the interstellar medium, producing light in many different colors and energy bands. Remaining at the center of the Vela Supernova Remnant is a pulsar, a star as dense as nuclear matter that spins around more than ten times in a single second.   Monday's Eclipse Imagery: Notable Submissions to APOD\",\n",
    "  \"hdurl\": \"https://apod.nasa.gov/apod/image/2404/VelaSnr_CTIO_3989.jpg\",\n",
    "  \"media_type\": \"image\",\n",
    "  \"service_version\": \"v1\",\n",
    "  \"title\": \"Filaments of the Vela Supernova Remnant\",\n",
    "  \"url\": \"https://apod.nasa.gov/apod/image/2404/VelaSnr_CTIO_960.jpg\"\n",
    "}"
   ]
  },
  {
   "cell_type": "markdown",
   "metadata": {},
   "source": [
    "설명 : 폭발은 끝났지만 그 결과는 계속됩니다. 약 11,000년 전, 벨라자리에 있는 별이 폭발하여 기록된 역사의 시작 근처에 살았던 인간들에게 잠시 볼 수 있는 이상한 빛의 지점을 만드는 것을 볼 수 있었습니다. 별의 바깥층이 성간 물질에 충돌하여 오늘날에도 여전히 볼 수 있는 충격파를 일으켰습니다. 위의 이미지는 가시광선에서 나타나는 필라멘트적이고 거대한 충격의 일부를 포착합니다. 폭발한 별에서 가스가 날아가면서 붕괴되고 성간 물질과 반응하여 다양한 색상과 에너지 대역의 빛을 생성합니다. 벨라 초신성 잔해의 중심에는 1초에 10번 이상 회전하는 핵 물질만큼 밀도가 높은 별인 펄서가 남아 있습니다."
   ]
  },
  {
   "cell_type": "markdown",
   "metadata": {},
   "source": [
    "![image](https://apod.nasa.gov/apod/image/2404/VelaSnr_CTIO_960.jpg)"
   ]
  },
  {
   "cell_type": "code",
   "execution_count": null,
   "metadata": {},
   "outputs": [],
   "source": []
  }
 ],
 "metadata": {
  "kernelspec": {
   "display_name": "base",
   "language": "python",
   "name": "python3"
  },
  "language_info": {
   "codemirror_mode": {
    "name": "ipython",
    "version": 3
   },
   "file_extension": ".py",
   "mimetype": "text/x-python",
   "name": "python",
   "nbconvert_exporter": "python",
   "pygments_lexer": "ipython3",
   "version": "3.11.5"
  }
 },
 "nbformat": 4,
 "nbformat_minor": 2
}

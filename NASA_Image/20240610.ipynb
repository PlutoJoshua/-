{
 "cells": [
  {
   "cell_type": "code",
   "execution_count": null,
   "metadata": {},
   "outputs": [],
   "source": [
    "{\n",
    "  \"copyright\": \"\\nImran Badr;\\nText: Natalia Lewandowska \\n(SUNY Oswego)\\n\",\n",
    "  \"date\": \"2024-06-10\",\n",
    "  \"explanation\": \"Is the Lion Nebula the real ruler of the constellation Cepheus?  This powerful feline appearing nebula is powered by two massive stars, each with a mass over 20 times greater than our Sun.  Formed from shells of ionized gas that have expanded, the nebula's energetic matter not only glows, but is dense enough to contract gravitationally and form stars.  The angular size of the Lion Nebula, officially named Sh2-132,  is slightly greater than that of the full moon.  The gaseous iconic region resides about 10,000 light years away in a constellation named after the King of Aethopia in Greek mythology.   Your Sky Surprise: What picture did APOD feature on your birthday? (post 1995)\",\n",
    "  \"hdurl\": \"https://apod.nasa.gov/apod/image/2406/LionNeb_Badr_3720.jpg\",\n",
    "  \"media_type\": \"image\",\n",
    "  \"service_version\": \"v1\",\n",
    "  \"title\": \"Sh2-132: The Lion Nebula\",\n",
    "  \"url\": \"https://apod.nasa.gov/apod/image/2406/LionNeb_Badr_960.jpg\"\n",
    "}"
   ]
  },
  {
   "cell_type": "markdown",
   "metadata": {},
   "source": [
    "사자성운은 케페우스자리의 진정한 지배자인가? 고양이과처럼 보이는 이 강력한 성운은 각각 우리 태양보다 질량이 20배 이상 큰 두 개의 거대한 별에 의해 구동됩니다. 팽창한 이온화된 가스 껍질로 형성된 성운의 에너지 물질은 빛을 낼 뿐만 아니라 중력에 의해 수축하여 별을 형성할 만큼 밀도가 높습니다. 공식적으로 Sh2-132로 명명된 사자 성운의 각 크기는 보름달의 각 크기보다 약간 더 큽니다. 가스로 이루어진 상징적인 지역은 그리스 신화에 나오는 에토피아 왕의 이름을 딴 별자리에 약 10,000광년 떨어진 곳에 위치하고 있습니다. 당신의 하늘 놀라움: APOD가 당신의 생일에 어떤 사진을 선보였습니까? (1995년 이후)"
   ]
  },
  {
   "cell_type": "markdown",
   "metadata": {},
   "source": [
    "![-](https://apod.nasa.gov/apod/image/2406/LionNeb_Badr_960.jpg)"
   ]
  }
 ],
 "metadata": {
  "language_info": {
   "name": "python"
  }
 },
 "nbformat": 4,
 "nbformat_minor": 2
}

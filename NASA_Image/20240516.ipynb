{
 "cells": [
  {
   "cell_type": "code",
   "execution_count": null,
   "metadata": {},
   "outputs": [],
   "source": [
    "{\n",
    "  \"copyright\": \"Wright Dobbs\",\n",
    "  \"date\": \"2024-05-16\",\n",
    "  \"explanation\": \"A familiar sight from Georgia, USA, the Moon sets near the western horizon in this rural night skyscape. Captured on May 10 before local midnight, the image overexposes the Moon's bright waning crescent at left in the frame. A long irrigation rig stretches across farmland about 15 miles north of the city of Bainbridge. Shimmering curtains of aurora shine across the starry sky though, definitely an unfamiliar sight for southern Georgia nights. Last weekend, extreme geomagnetic storms triggered by the recent intense activity from solar active region AR 3664 brought epic displays of aurora, usually seen closer to the poles, to southern Georgia and even lower latitudes on planet Earth. As solar activity ramps up, more storms are possible.   AuroraSaurus: Report your aurora observations\",\n",
    "  \"hdurl\": \"https://apod.nasa.gov/apod/image/2405/WrightDobbs_Georgia_Aurora_2.jpg\",\n",
    "  \"media_type\": \"image\",\n",
    "  \"service_version\": \"v1\",\n",
    "  \"title\": \"Aurora Georgia\",\n",
    "  \"url\": \"https://apod.nasa.gov/apod/image/2405/WrightDobbs_Georgia_Aurora_2_1024.jpg\"\n",
    "}"
   ]
  },
  {
   "cell_type": "markdown",
   "metadata": {},
   "source": [
    "미국 조지아주에서 흔히 볼 수 있는 이 시골 밤하늘 풍경에는 달이 서쪽 지평선 근처에 지고 있습니다. 5월 10일 현지 자정 이전에 촬영된 이 이미지는 프레임 왼쪽에 있는 달의 밝고 약해지는 초승달을 과다 노출합니다. 긴 관개 장비가 베인브리지 시에서 북쪽으로 약 15마일 떨어진 농지를 가로질러 뻗어 있습니다. 하지만 반짝이는 오로라 커튼이 별이 총총한 하늘을 가로질러 빛나고 있는데, 이는 확실히 남부 조지아의 밤에는 생소한 광경입니다. 지난 주말, 태양 활동 지역 AR 3664의 최근 강렬한 활동으로 인해 촉발된 극심한 지자기 폭풍으로 인해 일반적으로 극지방, 조지아 남부, 심지어 지구의 저위도에서 볼 수 있는 오로라가 장대하게 나타났습니다. 태양 활동이 증가함에 따라 더 많은 폭풍이 발생할 수 있습니다. AuroraSaurus: 오로라 관찰 보고"
   ]
  },
  {
   "cell_type": "markdown",
   "metadata": {},
   "source": [
    "![-](https://apod.nasa.gov/apod/image/2405/WrightDobbs_Georgia_Aurora_2_1024.jpg)"
   ]
  }
 ],
 "metadata": {
  "language_info": {
   "name": "python"
  }
 },
 "nbformat": 4,
 "nbformat_minor": 2
}

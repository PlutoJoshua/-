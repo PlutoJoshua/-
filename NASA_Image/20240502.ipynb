{
 "cells": [
  {
   "cell_type": "code",
   "execution_count": null,
   "metadata": {},
   "outputs": [],
   "source": [
    "{\n",
    "  \"copyright\": \"Drew Evans\",\n",
    "  \"date\": \"2024-05-02\",\n",
    "  \"explanation\": \"Majestic on a truly cosmic scale, M100 is appropriately known as a grand design spiral galaxy.  The large galaxy of over 100 billion stars has well-defined spiral arms, similar to our own Milky Way.  One of the brightest members of the Virgo Cluster of galaxies, M100, also known as NGC 4321 is 56 million light-years distant toward the well-groomed constellation Coma Berenices.  In this telescopic image, the face-on grand design spiral shares a nearly 1 degree wide field-of-view with slightly less conspicuous edge-on spiral NGC 4312 (at upper right). The 21 hour long equivalent exposure from a dark sky site near Flagstaff, Arizona, planet Earth, reveals M100's bright blue star clusters and intricate winding dust lanes which are hallmarks of this class of galaxies.  Measurements of variable stars in M100 have played an important role in determining the size and age of the Universe.\",\n",
    "  \"hdurl\": \"https://apod.nasa.gov/apod/image/2405/M100_DrewEvans.png\",\n",
    "  \"media_type\": \"image\",\n",
    "  \"service_version\": \"v1\",\n",
    "  \"title\": \"M100: A Grand Design Spiral Galaxy\",\n",
    "  \"url\": \"https://apod.nasa.gov/apod/image/2405/M100_DrewEvans1024.png\"\n",
    "}"
   ]
  },
  {
   "cell_type": "markdown",
   "metadata": {},
   "source": [
    "진정한 우주 규모로 장엄한 M100은 웅장한 나선은하로 잘 알려져 있습니다. 1,000억 개가 넘는 별들로 이루어진 거대한 은하는 우리 은하수와 비슷하게 뚜렷한 나선팔을 가지고 있습니다. NGC 4321로도 알려진 처녀자리 은하단의 가장 밝은 구성원 중 하나인 M100은 잘 손질된 머리털자리 방향으로 5,600만 광년 떨어져 있습니다. 이 망원 이미지에서 정면을 향한 웅장한 디자인의 나선은하가 거의 1도의 시야각을 공유하고 있으며 가장자리의 나선은하 NGC 4312(오른쪽 위)는 약간 덜 눈에 띕니다. 행성 지구인 애리조나주 플래그스태프 근처의 어두운 하늘에서 21시간 동안 노출된 이 사진에는 M100의 밝고 푸른 성단과 이 은하계의 특징인 복잡하게 구불구불한 먼지 띠가 드러납니다. M100의 변광성을 측정한 결과는 우주의 크기와 나이를 결정하는 데 중요한 역할을 했습니다."
   ]
  },
  {
   "cell_type": "markdown",
   "metadata": {},
   "source": [
    "![-](https://apod.nasa.gov/apod/image/2405/M100_DrewEvans1024.png)"
   ]
  },
  {
   "cell_type": "markdown",
   "metadata": {},
   "source": []
  }
 ],
 "metadata": {
  "kernelspec": {
   "display_name": "base",
   "language": "python",
   "name": "python3"
  },
  "language_info": {
   "name": "python",
   "version": "3.11.5"
  }
 },
 "nbformat": 4,
 "nbformat_minor": 2
}

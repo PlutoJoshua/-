{
 "cells": [
  {
   "cell_type": "code",
   "execution_count": null,
   "metadata": {},
   "outputs": [],
   "source": [
    "{\n",
    "  \"copyright\": \"Neil Corke\",\n",
    "  \"date\": \"2024-04-18\",\n",
    "  \"explanation\": \"From our vantage point in the Milky Way Galaxy, we see NGC 1232 face-on. Nearly 200,000 light-years across, the big, beautiful spiral galaxy is located some 47 million light-years away in the flowing southern constellation of Eridanus. This sharp, multi-color, telescopic image of NGC 1232 includes remarkable details of the distant island universe. From the core outward, the galaxy's colors change from the yellowish light of old stars in the center to young blue star clusters and reddish star forming regions along the grand, sweeping spiral arms. NGC 1232's apparent, small, barred-spiral companion galaxy is cataloged as NGC 1232A. Distance estimates place it much farther though, around 300 million light-years away, and unlikely to be interacting with NGC 1232.  Of course, the prominent bright star with the spiky appearance is much closer than NGC 1232 and lies well within our own Milky Way.\",\n",
    "  \"hdurl\": \"https://apod.nasa.gov/apod/image/2404/NGC1232_Eye_of_God_Galaxy_fullsize_2024-03-28.jpg\",\n",
    "  \"media_type\": \"image\",\n",
    "  \"service_version\": \"v1\",\n",
    "  \"title\": \"Facing NGC 1232\",\n",
    "  \"url\": \"https://apod.nasa.gov/apod/image/2404/NGC1232_Eye_of_God_Galaxy_fullsize_2024-03-28_1024.jpg\"\n",
    "}"
   ]
  },
  {
   "cell_type": "markdown",
   "metadata": {},
   "source": [
    "우리 은하계의 유리한 지점에서 우리는 NGC 1232를 정면으로 봅니다. 지름이 거의 200,000광년에 달하는 이 크고 아름다운 나선 은하는 흐르는 남쪽 별자리인 에리다누스자리에서 약 4,700만 광년 떨어진 곳에 위치하고 있습니다. NGC 1232의 선명하고 다양한 색상의 망원경 이미지에는 먼 섬 우주의 놀라운 세부 사항이 포함되어 있습니다. 중심부에서 바깥쪽으로 은하의 색깔은 중심에 있는 오래된 별들의 노란 빛에서 젊고 푸른 성단과 거대하고 휘감는 나선팔을 따라 붉은 별 탄생 지역으로 변합니다. NGC 1232의 겉보기에 작은 막대나선형 동반은하는 NGC 1232A로 분류됩니다. 하지만 거리 추정에 따르면 이 별은 훨씬 더 멀리 떨어져 약 3억 광년 떨어져 있으며 NGC 1232와 상호 작용할 가능성은 거의 없습니다. 물론 뾰족한 모양의 눈에 띄는 밝은 별은 NGC 1232보다 훨씬 더 가깝고 우리 은하계 내에 잘 놓여 있습니다."
   ]
  },
  {
   "cell_type": "markdown",
   "metadata": {},
   "source": [
    "![img](https://apod.nasa.gov/apod/image/2404/NGC1232_Eye_of_God_Galaxy_fullsize_2024-03-28_1024.jpg)"
   ]
  },
  {
   "cell_type": "markdown",
   "metadata": {},
   "source": []
  }
 ],
 "metadata": {
  "kernelspec": {
   "display_name": "base",
   "language": "python",
   "name": "python3"
  },
  "language_info": {
   "name": "python",
   "version": "3.11.5"
  }
 },
 "nbformat": 4,
 "nbformat_minor": 2
}

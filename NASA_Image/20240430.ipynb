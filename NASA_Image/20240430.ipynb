{
 "cells": [
  {
   "cell_type": "code",
   "execution_count": null,
   "metadata": {},
   "outputs": [],
   "source": [
    "{\n",
    "  \"copyright\": \"\\nDeep Sky Collective\\n\",\n",
    "  \"date\": \"2024-04-30\",\n",
    "  \"explanation\": \"The star system GK Per is known to be associated with only two of the three nebulas pictured.  At 1500 light years distant, Nova Persei 1901 (GK Persei) was the second closest nova yet recorded. At the very center is a white dwarf star, the surviving core of a former Sun-like star. It is surrounded by the circular Firework nebula, gas that was ejected by a thermonuclear explosion on the white dwarf's surface -- a nova -- as recorded in 1901. The red glowing gas surrounding the Firework nebula is the atmosphere that used to surround the central star. This gas was expelled before the nova and appears as a diffuse planetary nebula.  The faint gray gas running across is interstellar cirrus that seems to be just passing through coincidently. In 1901, GK Per's nova became brighter than Betelgeuse. Similarly, star system T CrB is expected to erupt in a nova later this year, but we don't know exactly when nor how bright it will become.\",\n",
    "  \"hdurl\": \"https://apod.nasa.gov/apod/image/2404/GKPerWide_DSC_4329.jpg\",\n",
    "  \"media_type\": \"image\",\n",
    "  \"service_version\": \"v1\",\n",
    "  \"title\": \"GK Per: Nova and Planetary Nebula\",\n",
    "  \"url\": \"https://apod.nasa.gov/apod/image/2404/GKPerWide_DSC_960.jpg\"\n",
    "}"
   ]
  },
  {
   "cell_type": "markdown",
   "metadata": {},
   "source": [
    "별계 GK Per는 사진에 있는 3개의 성운 중 2개와만 연관되어 있는 것으로 알려져 있습니다. 1500광년 거리에 있는 페르세우스 신성 1901(GK 페르세우스)은 지금까지 기록된 신성 중 두 번째로 가까운 신성이다. 가장 중심에는 이전 태양과 같은 별의 살아남은 핵인 백색 왜성이 있습니다. 이 성운은 1901년에 기록된 백색 왜성 표면의 열핵폭발에 의해 방출된 가스인 원형 불꽃 성운으로 둘러싸여 있습니다. 불꽃 성운을 둘러싸고 있는 붉게 빛나는 가스는 중심을 둘러싸고 있던 대기입니다. 별. 이 가스는 신성 이전에 방출되어 확산된 행성상 성운으로 나타납니다. 가로지르는 희미한 회색 가스는 우연히 지나가고 있는 듯한 성간 권운이다. 1901년 GK 페르의 신성은 베텔게우스보다 더 밝아졌습니다. 마찬가지로, 항성계 T CrB는 올해 후반에 신성으로 폭발할 것으로 예상되지만, 그것이 언제, 얼마나 밝아질지는 정확히 알 수 없습니다."
   ]
  },
  {
   "cell_type": "markdown",
   "metadata": {},
   "source": [
    "![-](https://apod.nasa.gov/apod/image/2404/GKPerWide_DSC_960.jpg)"
   ]
  },
  {
   "cell_type": "markdown",
   "metadata": {},
   "source": []
  }
 ],
 "metadata": {
  "language_info": {
   "name": "python"
  }
 },
 "nbformat": 4,
 "nbformat_minor": 2
}
